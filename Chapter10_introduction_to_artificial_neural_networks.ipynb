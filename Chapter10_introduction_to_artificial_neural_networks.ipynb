{
 "cells": [
  {
   "cell_type": "markdown",
   "metadata": {},
   "source": [
    "# Chapter10_introduction_to_artificial_neural_networks"
   ]
  },
  {
   "cell_type": "code",
   "execution_count": 8,
   "metadata": {
    "collapsed": true
   },
   "outputs": [],
   "source": [
    "# To support both python 2 and python 3\n",
    "from __future__ import division, print_function, unicode_literals\n",
    "\n",
    "# Common imports\n",
    "import numpy as np\n",
    "import os\n",
    "\n",
    "# to make this notebook's output stable across runs\n",
    "def reset_graph(seed=42):\n",
    "    tf.reset_default_graph()\n",
    "    tf.set_random_seed(seed)\n",
    "    np.random.seed(seed)\n",
    "\n",
    "# To plot pretty figures\n",
    "%matplotlib inline\n",
    "import matplotlib\n",
    "import matplotlib.pyplot as plt\n",
    "plt.rcParams['axes.labelsize'] = 14\n",
    "plt.rcParams['xtick.labelsize'] = 12\n",
    "plt.rcParams['ytick.labelsize'] = 12\n",
    "\n",
    "# Where to save the figures\n",
    "PROJECT_ROOT_DIR = \".\"\n",
    "CHAPTER_ID = \"ann\"\n",
    "\n",
    "def save_fig(fig_id, tight_layout=True):\n",
    "    path = os.path.join(PROJECT_ROOT_DIR, \"images\", fig_id + \".png\")\n",
    "    print(\"Saving figure\", fig_id)\n",
    "    if tight_layout:\n",
    "        plt.tight_layout()\n",
    "    plt.savefig(path, format='png', dpi=300)\n"
   ]
  },
  {
   "cell_type": "markdown",
   "metadata": {},
   "source": [
    "## Perceptrons "
   ]
  },
  {
   "cell_type": "code",
   "execution_count": 9,
   "metadata": {
    "collapsed": true
   },
   "outputs": [],
   "source": [
    "import numpy as np\n",
    "from sklearn.datasets import load_iris\n",
    "from sklearn.linear_model import Perceptron\n",
    "\n",
    "iris = load_iris()\n",
    "X = iris.data[:, (2, 3)]\n",
    "y = (iris.target == 0).astype(np.int)\n",
    "\n",
    "per_clf = Perceptron(random_state=42)\n",
    "per_clf.fit(X, y)\n",
    "y_pred = per_clf.predict([[2, 0.5]])"
   ]
  },
  {
   "cell_type": "code",
   "execution_count": 10,
   "metadata": {},
   "outputs": [
    {
     "data": {
      "text/plain": [
       "array([1])"
      ]
     },
     "execution_count": 10,
     "metadata": {},
     "output_type": "execute_result"
    }
   ],
   "source": [
    "y_pred"
   ]
  },
  {
   "cell_type": "code",
   "execution_count": 16,
   "metadata": {},
   "outputs": [
    {
     "name": "stdout",
     "output_type": "stream",
     "text": [
      "Saving figure perceptron_iris_plot\n"
     ]
    },
    {
     "data": {
      "image/png": "[encoded data removed]",
      "text/plain": [
       "<matplotlib.figure.Figure at 0x10d3e4ba8>"
      ]
     },
     "metadata": {},
     "output_type": "display_data"
    }
   ],
   "source": [
    "a = -per_clf.coef_[0][0] / per_clf.coef_[0][1]\n",
    "b = -per_clf.intercept_ / per_clf.coef_[0][1]\n",
    "\n",
    "axes = [0, 5, 0, 2]\n",
    "\n",
    "x0, x1 = np.meshgrid(\n",
    "        np.linspace(axes[0], axes[1], 500).reshape(-1, 1),\n",
    "        np.linspace(axes[2], axes[3], 200).reshape(-1, 1),\n",
    "    )\n",
    "X_new = np.c_[x0.ravel(), x1.ravel()]\n",
    "y_predict = per_clf.predict(X_new)\n",
    "zz = y_predict.reshape(x0.shape)\n",
    "\n",
    "plt.figure(figsize=(10, 4))\n",
    "plt.plot(X[y==0, 0], X[y==0, 1], \"bs\", label=\"Not Iris-Setosa\",markeredgecolor='k')\n",
    "plt.plot(X[y==1, 0], X[y==1, 1], \"yo\", label=\"Iris-Setosa\",markeredgecolor='k')\n",
    "\n",
    "plt.plot([axes[0], axes[1]], [a * axes[0] + b, a * axes[1] + b], \"k-\", linewidth=3)\n",
    "from matplotlib.colors import ListedColormap\n",
    "custom_cmap = ListedColormap(['#9898ff', '#fafab0'])\n",
    "\n",
    "plt.contourf(x0, x1, zz, cmap=custom_cmap, linewidth=5)\n",
    "plt.xlabel(\"Petal length\", fontsize=14)\n",
    "plt.ylabel(\"Petal width\", fontsize=14)\n",
    "plt.legend(loc=\"lower right\", fontsize=14)\n",
    "plt.axis(axes)\n",
    "\n",
    "save_fig(\"perceptron_iris_plot\")\n",
    "plt.show()"
   ]
  },
  {
   "cell_type": "markdown",
   "metadata": {},
   "source": [
    "## Activation functions"
   ]
  },
  {
   "cell_type": "code",
   "execution_count": 17,
   "metadata": {
    "collapsed": true
   },
   "outputs": [],
   "source": [
    "def logit(z):\n",
    "    return 1 / (1 + np.exp(-z))\n",
    "\n",
    "def relu(z):\n",
    "    return np.maximum(0, z)\n",
    "\n",
    "def derivative(f, z, eps=0.000001):\n",
    "    return (f(z + eps) - f(z - eps))/(2 * eps)"
   ]
  },
  {
   "cell_type": "code",
   "execution_count": 18,
   "metadata": {},
   "outputs": [
    {
     "name": "stdout",
     "output_type": "stream",
     "text": [
      "Saving figure activation_functions_plot\n"
     ]
    },
    {
     "data": {
      "image/png": "[encoded data removed]",
      "text/plain": [
       "<matplotlib.figure.Figure at 0x10d6025f8>"
      ]
     },
     "metadata": {},
     "output_type": "display_data"
    }
   ],
   "source": [
    "z = np.linspace(-5, 5, 200)\n",
    "\n",
    "plt.figure(figsize=(11,4))\n",
    "\n",
    "plt.subplot(121)\n",
    "plt.plot(z, np.sign(z), \"r-\", linewidth=2, label=\"Step\")\n",
    "plt.plot(z, logit(z), \"g--\", linewidth=2, label=\"Logit\")\n",
    "plt.plot(z, np.tanh(z), \"b-\", linewidth=2, label=\"Tanh\")\n",
    "plt.plot(z, relu(z), \"m-.\", linewidth=2, label=\"ReLU\")\n",
    "plt.grid(True)\n",
    "plt.legend(loc=\"center right\", fontsize=14)\n",
    "plt.title(\"Activation functions\", fontsize=14)\n",
    "plt.axis([-5, 5, -1.2, 1.2])\n",
    "\n",
    "plt.subplot(122)\n",
    "plt.plot(z, derivative(np.sign, z), \"r-\", linewidth=2, label=\"Step\")\n",
    "plt.plot(0, 0, \"ro\", markersize=5)\n",
    "plt.plot(0, 0, \"rx\", markersize=10)\n",
    "plt.plot(z, derivative(logit, z), \"g--\", linewidth=2, label=\"Logit\")\n",
    "plt.plot(z, derivative(np.tanh, z), \"b-\", linewidth=2, label=\"Tanh\")\n",
    "plt.plot(z, derivative(relu, z), \"m-.\", linewidth=2, label=\"ReLU\")\n",
    "plt.grid(True)\n",
    "#plt.legend(loc=\"center right\", fontsize=14)\n",
    "plt.title(\"Derivatives\", fontsize=14)\n",
    "plt.axis([-5, 5, -0.2, 1.2])\n",
    "\n",
    "save_fig(\"activation_functions_plot\")\n",
    "plt.show()"
   ]
  },
  {
   "cell_type": "code",
   "execution_count": 19,
   "metadata": {
    "collapsed": true
   },
   "outputs": [],
   "source": [
    "def heaviside(z):\n",
    "    return (z >= 0).astype(z.dtype)\n",
    "\n",
    "def sigmoid(z):\n",
    "    return 1/(1+np.exp(-z))\n",
    "\n",
    "def mlp_xor(x1, x2, activation=heaviside):\n",
    "    return activation(-activation(x1 + x2 - 1.5) + activation(x1 + x2 - 0.5) - 0.5)"
   ]
  },
  {
   "cell_type": "code",
   "execution_count": 20,
   "metadata": {},
   "outputs": [
    {
     "data": {
      "image/png": "[encoded data removed]",
      "text/plain": [
       "<matplotlib.figure.Figure at 0x10dc9ccf8>"
      ]
     },
     "metadata": {},
     "output_type": "display_data"
    }
   ],
   "source": [
    "x1s = np.linspace(-0.2, 1.2, 100)\n",
    "x2s = np.linspace(-0.2, 1.2, 100)\n",
    "x1, x2 = np.meshgrid(x1s, x2s)\n",
    "\n",
    "z1 = mlp_xor(x1, x2, activation=heaviside)\n",
    "z2 = mlp_xor(x1, x2, activation=sigmoid)\n",
    "\n",
    "plt.figure(figsize=(10,4))\n",
    "\n",
    "plt.subplot(121)\n",
    "plt.contourf(x1, x2, z1)\n",
    "plt.plot([0, 1], [0, 1], \"gs\", markersize=20)\n",
    "plt.plot([0, 1], [1, 0], \"y^\", markersize=20)\n",
    "plt.title(\"Activation function: heaviside\", fontsize=14)\n",
    "plt.grid(True)\n",
    "\n",
    "plt.subplot(122)\n",
    "plt.contourf(x1, x2, z2)\n",
    "plt.plot([0, 1], [0, 1], \"gs\", markersize=20)\n",
    "plt.plot([0, 1], [1, 0], \"y^\", markersize=20)\n",
    "plt.title(\"Activation function: sigmoid\", fontsize=14)\n",
    "plt.grid(True)"
   ]
  },
  {
   "cell_type": "markdown",
   "metadata": {},
   "source": [
    "## FNN for MNIST"
   ]
  },
  {
   "cell_type": "code",
   "execution_count": 21,
   "metadata": {
    "collapsed": true
   },
   "outputs": [],
   "source": [
    "from tensorflow.examples.tutorials.mnist import input_data"
   ]
  },
  {
   "cell_type": "code",
   "execution_count": 24,
   "metadata": {},
   "outputs": [
    {
     "name": "stdout",
     "output_type": "stream",
     "text": [
      "Extracting /tmp/data/train-images-idx3-ubyte.gz\n",
      "Extracting /tmp/data/train-labels-idx1-ubyte.gz\n",
      "Extracting /tmp/data/t10k-images-idx3-ubyte.gz\n",
      "Extracting /tmp/data/t10k-labels-idx1-ubyte.gz\n"
     ]
    }
   ],
   "source": [
    "mnist = input_data.read_data_sets(\"/tmp/data/\")"
   ]
  },
  {
   "cell_type": "code",
   "execution_count": 25,
   "metadata": {
    "collapsed": true
   },
   "outputs": [],
   "source": [
    "X_train = mnist.train.images\n",
    "X_test = mnist.test.images\n",
    "y_train = mnist.train.labels.astype(\"int\")\n",
    "y_test = mnist.test.labels.astype(\"int\")"
   ]
  },
  {
   "cell_type": "code",
   "execution_count": 26,
   "metadata": {},
   "outputs": [
    {
     "name": "stdout",
     "output_type": "stream",
     "text": [
      "WARNING:tensorflow:Using temporary folder as model directory: /var/folders/xf/dsgz0s3x35n_s3_y80jwpxgm0000gn/T/tmpjv98jgdd\n",
      "INFO:tensorflow:Using config: {'_task_type': None, '_task_id': 0, '_cluster_spec': <tensorflow.python.training.server_lib.ClusterSpec object at 0x10e9e87f0>, '_master': '', '_num_ps_replicas': 0, '_num_worker_replicas': 0, '_environment': 'local', '_is_chief': True, '_evaluation_master': '', '_tf_config': gpu_options {\n",
      "  per_process_gpu_memory_fraction: 1\n",
      "}\n",
      ", '_tf_random_seed': 42, '_save_summary_steps': 100, '_save_checkpoints_secs': 600, '_session_config': None, '_save_checkpoints_steps': None, '_keep_checkpoint_max': 5, '_keep_checkpoint_every_n_hours': 10000, '_model_dir': '/var/folders/xf/dsgz0s3x35n_s3_y80jwpxgm0000gn/T/tmpjv98jgdd'}\n",
      "WARNING:tensorflow:From /Users/jaysurplus/Documents/Github/handon_ml/venv/lib/python3.6/site-packages/tensorflow/contrib/learn/python/learn/estimators/head.py:625: scalar_summary (from tensorflow.python.ops.logging_ops) is deprecated and will be removed after 2016-11-30.\n",
      "Instructions for updating:\n",
      "Please switch to tf.summary.scalar. Note that tf.summary.scalar uses the node name instead of the tag. This means that TensorFlow will automatically de-duplicate summary names based on the scope they are created in. Also, passing a tensor or list of tags to a scalar summary op is no longer supported.\n",
      "INFO:tensorflow:Create CheckpointSaverHook.\n",
      "INFO:tensorflow:Saving checkpoints for 1 into /var/folders/xf/dsgz0s3x35n_s3_y80jwpxgm0000gn/T/tmpjv98jgdd/model.ckpt.\n",
      "INFO:tensorflow:loss = 2.36404, step = 1\n",
      "INFO:tensorflow:global_step/sec: 191.392\n",
      "INFO:tensorflow:loss = 0.309677, step = 101 (0.524 sec)\n",
      "INFO:tensorflow:global_step/sec: 200.158\n",
      "INFO:tensorflow:loss = 0.254103, step = 201 (0.500 sec)\n",
      "INFO:tensorflow:global_step/sec: 186.503\n",
      "INFO:tensorflow:loss = 0.403251, step = 301 (0.536 sec)\n",
      "INFO:tensorflow:global_step/sec: 181.985\n",
      "INFO:tensorflow:loss = 0.248612, step = 401 (0.550 sec)\n",
      "INFO:tensorflow:global_step/sec: 188.923\n",
      "INFO:tensorflow:loss = 0.238972, step = 501 (0.530 sec)\n",
      "INFO:tensorflow:global_step/sec: 198.307\n",
      "INFO:tensorflow:loss = 0.0964612, step = 601 (0.504 sec)\n",
      "INFO:tensorflow:global_step/sec: 141.397\n",
      "INFO:tensorflow:loss = 0.119384, step = 701 (0.709 sec)\n",
      "INFO:tensorflow:global_step/sec: 163.476\n",
      "INFO:tensorflow:loss = 0.184879, step = 801 (0.610 sec)\n",
      "INFO:tensorflow:global_step/sec: 85.1014\n",
      "INFO:tensorflow:loss = 0.093465, step = 901 (1.181 sec)\n",
      "INFO:tensorflow:global_step/sec: 146.602\n",
      "INFO:tensorflow:loss = 0.206881, step = 1001 (0.676 sec)\n",
      "INFO:tensorflow:global_step/sec: 202.598\n",
      "INFO:tensorflow:loss = 0.187316, step = 1101 (0.496 sec)\n",
      "INFO:tensorflow:global_step/sec: 178.648\n",
      "INFO:tensorflow:loss = 0.1543, step = 1201 (0.557 sec)\n",
      "INFO:tensorflow:global_step/sec: 198.288\n",
      "INFO:tensorflow:loss = 0.163595, step = 1301 (0.504 sec)\n",
      "INFO:tensorflow:global_step/sec: 182.076\n",
      "INFO:tensorflow:loss = 0.0720562, step = 1401 (0.551 sec)\n",
      "INFO:tensorflow:global_step/sec: 190.872\n",
      "INFO:tensorflow:loss = 0.0723128, step = 1501 (0.525 sec)\n",
      "INFO:tensorflow:global_step/sec: 153.978\n",
      "INFO:tensorflow:loss = 0.121916, step = 1601 (0.649 sec)\n",
      "INFO:tensorflow:global_step/sec: 188.68\n",
      "INFO:tensorflow:loss = 0.039761, step = 1701 (0.529 sec)\n",
      "INFO:tensorflow:global_step/sec: 160.973\n",
      "INFO:tensorflow:loss = 0.152173, step = 1801 (0.623 sec)\n",
      "INFO:tensorflow:global_step/sec: 182.184\n",
      "INFO:tensorflow:loss = 0.070405, step = 1901 (0.551 sec)\n",
      "INFO:tensorflow:global_step/sec: 201.212\n",
      "INFO:tensorflow:loss = 0.0662507, step = 2001 (0.492 sec)\n",
      "INFO:tensorflow:global_step/sec: 167.511\n",
      "INFO:tensorflow:loss = 0.0241838, step = 2101 (0.598 sec)\n",
      "INFO:tensorflow:global_step/sec: 180.341\n",
      "INFO:tensorflow:loss = 0.0292274, step = 2201 (0.556 sec)\n",
      "INFO:tensorflow:global_step/sec: 132.568\n",
      "INFO:tensorflow:loss = 0.0513423, step = 2301 (0.752 sec)\n",
      "INFO:tensorflow:global_step/sec: 184.954\n",
      "INFO:tensorflow:loss = 0.0555448, step = 2401 (0.546 sec)\n",
      "INFO:tensorflow:global_step/sec: 97.451\n",
      "INFO:tensorflow:loss = 0.0884138, step = 2501 (1.040 sec)\n",
      "INFO:tensorflow:global_step/sec: 136.569\n",
      "INFO:tensorflow:loss = 0.0315207, step = 2601 (0.713 sec)\n",
      "INFO:tensorflow:global_step/sec: 209.21\n",
      "INFO:tensorflow:loss = 0.0126636, step = 2701 (0.478 sec)\n",
      "INFO:tensorflow:global_step/sec: 202.133\n",
      "INFO:tensorflow:loss = 0.0514662, step = 2801 (0.496 sec)\n",
      "INFO:tensorflow:global_step/sec: 196.039\n",
      "INFO:tensorflow:loss = 0.088122, step = 2901 (0.509 sec)\n",
      "INFO:tensorflow:global_step/sec: 201.976\n",
      "INFO:tensorflow:loss = 0.0138777, step = 3001 (0.494 sec)\n",
      "INFO:tensorflow:global_step/sec: 208.756\n",
      "INFO:tensorflow:loss = 0.044173, step = 3101 (0.479 sec)\n",
      "INFO:tensorflow:global_step/sec: 207.596\n",
      "INFO:tensorflow:loss = 0.0120668, step = 3201 (0.483 sec)\n",
      "INFO:tensorflow:global_step/sec: 187.21\n",
      "INFO:tensorflow:loss = 0.0452911, step = 3301 (0.533 sec)\n",
      "INFO:tensorflow:global_step/sec: 208.21\n",
      "INFO:tensorflow:loss = 0.152817, step = 3401 (0.480 sec)\n",
      "INFO:tensorflow:global_step/sec: 210.293\n",
      "INFO:tensorflow:loss = 0.0838171, step = 3501 (0.476 sec)\n",
      "INFO:tensorflow:global_step/sec: 188.932\n",
      "INFO:tensorflow:loss = 0.156769, step = 3601 (0.534 sec)\n",
      "INFO:tensorflow:global_step/sec: 150.424\n",
      "INFO:tensorflow:loss = 0.0343551, step = 3701 (0.665 sec)\n",
      "INFO:tensorflow:global_step/sec: 152.148\n",
      "INFO:tensorflow:loss = 0.00878235, step = 3801 (0.652 sec)\n",
      "INFO:tensorflow:global_step/sec: 202.803\n",
      "INFO:tensorflow:loss = 0.152629, step = 3901 (0.493 sec)\n",
      "INFO:tensorflow:global_step/sec: 180.808\n",
      "INFO:tensorflow:loss = 0.0950618, step = 4001 (0.554 sec)\n",
      "INFO:tensorflow:global_step/sec: 202.92\n",
      "INFO:tensorflow:loss = 0.0524628, step = 4101 (0.492 sec)\n",
      "INFO:tensorflow:global_step/sec: 203.167\n",
      "INFO:tensorflow:loss = 0.0629685, step = 4201 (0.492 sec)\n",
      "INFO:tensorflow:global_step/sec: 157.548\n",
      "INFO:tensorflow:loss = 0.166633, step = 4301 (0.635 sec)\n",
      "INFO:tensorflow:global_step/sec: 209.45\n",
      "INFO:tensorflow:loss = 0.108088, step = 4401 (0.477 sec)\n",
      "INFO:tensorflow:global_step/sec: 208.861\n",
      "INFO:tensorflow:loss = 0.0167887, step = 4501 (0.479 sec)\n",
      "INFO:tensorflow:global_step/sec: 196.282\n",
      "INFO:tensorflow:loss = 0.0170214, step = 4601 (0.509 sec)\n",
      "INFO:tensorflow:global_step/sec: 212.788\n",
      "INFO:tensorflow:loss = 0.00988497, step = 4701 (0.470 sec)\n",
      "INFO:tensorflow:global_step/sec: 206.79\n",
      "INFO:tensorflow:loss = 0.0218255, step = 4801 (0.484 sec)\n",
      "INFO:tensorflow:global_step/sec: 196.499\n",
      "INFO:tensorflow:loss = 0.0958064, step = 4901 (0.509 sec)\n",
      "INFO:tensorflow:global_step/sec: 212.027\n",
      "INFO:tensorflow:loss = 0.032898, step = 5001 (0.471 sec)\n",
      "INFO:tensorflow:global_step/sec: 215.459\n",
      "INFO:tensorflow:loss = 0.00692303, step = 5101 (0.464 sec)\n",
      "INFO:tensorflow:global_step/sec: 208.801\n",
      "INFO:tensorflow:loss = 0.0374796, step = 5201 (0.479 sec)\n",
      "INFO:tensorflow:global_step/sec: 213.5\n",
      "INFO:tensorflow:loss = 0.0408561, step = 5301 (0.469 sec)\n",
      "INFO:tensorflow:global_step/sec: 192.945\n",
      "INFO:tensorflow:loss = 0.0703828, step = 5401 (0.518 sec)\n",
      "INFO:tensorflow:global_step/sec: 211.633\n",
      "INFO:tensorflow:loss = 0.0597546, step = 5501 (0.472 sec)\n",
      "INFO:tensorflow:global_step/sec: 213.776\n",
      "INFO:tensorflow:loss = 0.0637175, step = 5601 (0.468 sec)\n",
      "INFO:tensorflow:global_step/sec: 207.932\n",
      "INFO:tensorflow:loss = 0.0142295, step = 5701 (0.481 sec)\n",
      "INFO:tensorflow:global_step/sec: 215.096\n",
      "INFO:tensorflow:loss = 0.008777, step = 5801 (0.465 sec)\n",
      "INFO:tensorflow:global_step/sec: 186.043\n",
      "INFO:tensorflow:loss = 0.0868253, step = 5901 (0.542 sec)\n",
      "INFO:tensorflow:global_step/sec: 177.325\n",
      "INFO:tensorflow:loss = 0.109432, step = 6001 (0.560 sec)\n",
      "INFO:tensorflow:global_step/sec: 148.773\n",
      "INFO:tensorflow:loss = 0.0131425, step = 6101 (0.674 sec)\n",
      "INFO:tensorflow:global_step/sec: 168.923\n",
      "INFO:tensorflow:loss = 0.0240843, step = 6201 (0.590 sec)\n",
      "INFO:tensorflow:global_step/sec: 106.221\n",
      "INFO:tensorflow:loss = 0.085723, step = 6301 (0.949 sec)\n",
      "INFO:tensorflow:global_step/sec: 163.994\n",
      "INFO:tensorflow:loss = 0.0259363, step = 6401 (0.603 sec)\n",
      "INFO:tensorflow:global_step/sec: 160.168\n",
      "INFO:tensorflow:loss = 0.00852303, step = 6501 (0.624 sec)\n",
      "INFO:tensorflow:global_step/sec: 154.403\n",
      "INFO:tensorflow:loss = 0.0227815, step = 6601 (0.650 sec)\n",
      "INFO:tensorflow:global_step/sec: 174.258\n",
      "INFO:tensorflow:loss = 0.0275877, step = 6701 (0.570 sec)\n",
      "INFO:tensorflow:global_step/sec: 213.777\n"
     ]
    },
    {
     "name": "stdout",
     "output_type": "stream",
     "text": [
      "INFO:tensorflow:loss = 0.0085514, step = 6801 (0.468 sec)\n",
      "INFO:tensorflow:global_step/sec: 214.089\n",
      "INFO:tensorflow:loss = 0.0113093, step = 6901 (0.467 sec)\n",
      "INFO:tensorflow:global_step/sec: 210.002\n",
      "INFO:tensorflow:loss = 0.0190613, step = 7001 (0.476 sec)\n",
      "INFO:tensorflow:global_step/sec: 208.014\n",
      "INFO:tensorflow:loss = 0.00409009, step = 7101 (0.481 sec)\n",
      "INFO:tensorflow:global_step/sec: 192.714\n",
      "INFO:tensorflow:loss = 0.0582136, step = 7201 (0.520 sec)\n",
      "INFO:tensorflow:global_step/sec: 216.105\n",
      "INFO:tensorflow:loss = 0.00672715, step = 7301 (0.462 sec)\n",
      "INFO:tensorflow:global_step/sec: 216.177\n",
      "INFO:tensorflow:loss = 0.0127499, step = 7401 (0.463 sec)\n",
      "INFO:tensorflow:global_step/sec: 204.639\n",
      "INFO:tensorflow:loss = 0.005338, step = 7501 (0.491 sec)\n",
      "INFO:tensorflow:global_step/sec: 206.3\n",
      "INFO:tensorflow:loss = 0.0160609, step = 7601 (0.482 sec)\n",
      "INFO:tensorflow:global_step/sec: 196.785\n",
      "INFO:tensorflow:loss = 0.00499156, step = 7701 (0.508 sec)\n",
      "INFO:tensorflow:global_step/sec: 211.17\n",
      "INFO:tensorflow:loss = 0.00483353, step = 7801 (0.474 sec)\n",
      "INFO:tensorflow:global_step/sec: 213.378\n",
      "INFO:tensorflow:loss = 0.00696935, step = 7901 (0.468 sec)\n",
      "INFO:tensorflow:global_step/sec: 183.806\n",
      "INFO:tensorflow:loss = 0.00272221, step = 8001 (0.544 sec)\n",
      "INFO:tensorflow:global_step/sec: 185.395\n",
      "INFO:tensorflow:loss = 0.0217708, step = 8101 (0.543 sec)\n",
      "INFO:tensorflow:global_step/sec: 197.073\n",
      "INFO:tensorflow:loss = 0.0288787, step = 8201 (0.503 sec)\n",
      "INFO:tensorflow:global_step/sec: 207.035\n",
      "INFO:tensorflow:loss = 0.0539877, step = 8301 (0.483 sec)\n",
      "INFO:tensorflow:global_step/sec: 212.203\n",
      "INFO:tensorflow:loss = 0.00857862, step = 8401 (0.471 sec)\n",
      "INFO:tensorflow:global_step/sec: 195.975\n",
      "INFO:tensorflow:loss = 0.00668675, step = 8501 (0.510 sec)\n",
      "INFO:tensorflow:global_step/sec: 213.226\n",
      "INFO:tensorflow:loss = 0.00526417, step = 8601 (0.468 sec)\n",
      "INFO:tensorflow:global_step/sec: 211.097\n",
      "INFO:tensorflow:loss = 0.00431127, step = 8701 (0.474 sec)\n",
      "INFO:tensorflow:global_step/sec: 212.061\n",
      "INFO:tensorflow:loss = 0.00488374, step = 8801 (0.471 sec)\n",
      "INFO:tensorflow:global_step/sec: 210.947\n",
      "INFO:tensorflow:loss = 0.00250303, step = 8901 (0.474 sec)\n",
      "INFO:tensorflow:global_step/sec: 197.638\n",
      "INFO:tensorflow:loss = 0.0148685, step = 9001 (0.506 sec)\n",
      "INFO:tensorflow:global_step/sec: 211.946\n",
      "INFO:tensorflow:loss = 0.00912793, step = 9101 (0.472 sec)\n",
      "INFO:tensorflow:global_step/sec: 209.526\n",
      "INFO:tensorflow:loss = 0.00432368, step = 9201 (0.477 sec)\n",
      "INFO:tensorflow:global_step/sec: 211.709\n",
      "INFO:tensorflow:loss = 0.0138446, step = 9301 (0.472 sec)\n",
      "INFO:tensorflow:global_step/sec: 206.444\n",
      "INFO:tensorflow:loss = 0.0518277, step = 9401 (0.485 sec)\n",
      "INFO:tensorflow:global_step/sec: 189.344\n",
      "INFO:tensorflow:loss = 0.00607764, step = 9501 (0.531 sec)\n",
      "INFO:tensorflow:global_step/sec: 213.14\n",
      "INFO:tensorflow:loss = 0.0207135, step = 9601 (0.466 sec)\n",
      "INFO:tensorflow:global_step/sec: 214.759\n",
      "INFO:tensorflow:loss = 0.0166932, step = 9701 (0.465 sec)\n",
      "INFO:tensorflow:global_step/sec: 215.622\n",
      "INFO:tensorflow:loss = 0.00487015, step = 9801 (0.464 sec)\n",
      "INFO:tensorflow:global_step/sec: 184.923\n",
      "INFO:tensorflow:loss = 0.0185824, step = 9901 (0.544 sec)\n",
      "INFO:tensorflow:global_step/sec: 146.968\n",
      "INFO:tensorflow:loss = 0.0240925, step = 10001 (0.677 sec)\n",
      "INFO:tensorflow:global_step/sec: 165.898\n",
      "INFO:tensorflow:loss = 0.00462607, step = 10101 (0.612 sec)\n",
      "INFO:tensorflow:global_step/sec: 151.861\n",
      "INFO:tensorflow:loss = 0.0100708, step = 10201 (0.650 sec)\n",
      "INFO:tensorflow:global_step/sec: 210.475\n",
      "INFO:tensorflow:loss = 0.00573162, step = 10301 (0.475 sec)\n",
      "INFO:tensorflow:global_step/sec: 196.752\n",
      "INFO:tensorflow:loss = 0.0101062, step = 10401 (0.509 sec)\n",
      "INFO:tensorflow:global_step/sec: 213.799\n",
      "INFO:tensorflow:loss = 0.00470994, step = 10501 (0.467 sec)\n",
      "INFO:tensorflow:global_step/sec: 212.406\n",
      "INFO:tensorflow:loss = 0.00745281, step = 10601 (0.472 sec)\n",
      "INFO:tensorflow:global_step/sec: 214.906\n",
      "INFO:tensorflow:loss = 0.0220603, step = 10701 (0.464 sec)\n",
      "INFO:tensorflow:global_step/sec: 213.853\n",
      "INFO:tensorflow:loss = 0.0147888, step = 10801 (0.467 sec)\n",
      "INFO:tensorflow:global_step/sec: 195.849\n",
      "INFO:tensorflow:loss = 0.00258084, step = 10901 (0.511 sec)\n",
      "INFO:tensorflow:global_step/sec: 212.609\n",
      "INFO:tensorflow:loss = 0.0285976, step = 11001 (0.470 sec)\n",
      "INFO:tensorflow:global_step/sec: 212.249\n",
      "INFO:tensorflow:loss = 0.0044351, step = 11101 (0.471 sec)\n",
      "INFO:tensorflow:global_step/sec: 201.518\n",
      "INFO:tensorflow:loss = 0.00119579, step = 11201 (0.499 sec)\n",
      "INFO:tensorflow:global_step/sec: 208.585\n",
      "INFO:tensorflow:loss = 0.0158182, step = 11301 (0.476 sec)\n",
      "INFO:tensorflow:global_step/sec: 213.385\n",
      "INFO:tensorflow:loss = 0.00693267, step = 11401 (0.469 sec)\n",
      "INFO:tensorflow:global_step/sec: 211.119\n",
      "INFO:tensorflow:loss = 0.0174892, step = 11501 (0.474 sec)\n",
      "INFO:tensorflow:global_step/sec: 214.26\n",
      "INFO:tensorflow:loss = 0.000888462, step = 11601 (0.466 sec)\n",
      "INFO:tensorflow:global_step/sec: 204.934\n",
      "INFO:tensorflow:loss = 0.0026345, step = 11701 (0.488 sec)\n",
      "INFO:tensorflow:global_step/sec: 204.619\n",
      "INFO:tensorflow:loss = 0.000522998, step = 11801 (0.488 sec)\n",
      "INFO:tensorflow:global_step/sec: 203.818\n",
      "INFO:tensorflow:loss = 0.0101293, step = 11901 (0.491 sec)\n",
      "INFO:tensorflow:global_step/sec: 214.764\n",
      "INFO:tensorflow:loss = 0.000120309, step = 12001 (0.466 sec)\n",
      "INFO:tensorflow:global_step/sec: 212.478\n",
      "INFO:tensorflow:loss = 0.00283077, step = 12101 (0.470 sec)\n",
      "INFO:tensorflow:global_step/sec: 158.199\n",
      "INFO:tensorflow:loss = 0.00376223, step = 12201 (0.635 sec)\n",
      "INFO:tensorflow:global_step/sec: 205.877\n",
      "INFO:tensorflow:loss = 0.00516198, step = 12301 (0.482 sec)\n",
      "INFO:tensorflow:global_step/sec: 213.214\n",
      "INFO:tensorflow:loss = 0.000395552, step = 12401 (0.469 sec)\n",
      "INFO:tensorflow:global_step/sec: 214.827\n",
      "INFO:tensorflow:loss = 0.0038692, step = 12501 (0.466 sec)\n",
      "INFO:tensorflow:global_step/sec: 186.16\n",
      "INFO:tensorflow:loss = 0.000996494, step = 12601 (0.537 sec)\n",
      "INFO:tensorflow:global_step/sec: 195.29\n",
      "INFO:tensorflow:loss = 0.00522744, step = 12701 (0.512 sec)\n",
      "INFO:tensorflow:global_step/sec: 213.891\n",
      "INFO:tensorflow:loss = 0.00650308, step = 12801 (0.468 sec)\n",
      "INFO:tensorflow:global_step/sec: 204.644\n",
      "INFO:tensorflow:loss = 0.00290468, step = 12901 (0.489 sec)\n",
      "INFO:tensorflow:global_step/sec: 214.31\n",
      "INFO:tensorflow:loss = 0.00306313, step = 13001 (0.467 sec)\n",
      "INFO:tensorflow:global_step/sec: 210.196\n",
      "INFO:tensorflow:loss = 0.0040113, step = 13101 (0.476 sec)\n",
      "INFO:tensorflow:global_step/sec: 193.701\n",
      "INFO:tensorflow:loss = 0.00749846, step = 13201 (0.517 sec)\n",
      "INFO:tensorflow:global_step/sec: 209.041\n",
      "INFO:tensorflow:loss = 0.00422553, step = 13301 (0.477 sec)\n",
      "INFO:tensorflow:global_step/sec: 209.578\n",
      "INFO:tensorflow:loss = 0.00333589, step = 13401 (0.477 sec)\n",
      "INFO:tensorflow:global_step/sec: 211.441\n",
      "INFO:tensorflow:loss = 0.00930926, step = 13501 (0.473 sec)\n",
      "INFO:tensorflow:global_step/sec: 214.971\n",
      "INFO:tensorflow:loss = 0.00580592, step = 13601 (0.465 sec)\n",
      "INFO:tensorflow:global_step/sec: 195.387\n",
      "INFO:tensorflow:loss = 0.00158466, step = 13701 (0.512 sec)\n",
      "INFO:tensorflow:global_step/sec: 211.984\n",
      "INFO:tensorflow:loss = 0.00957848, step = 13801 (0.472 sec)\n",
      "INFO:tensorflow:global_step/sec: 212.795\n",
      "INFO:tensorflow:loss = 0.0029991, step = 13901 (0.470 sec)\n",
      "INFO:tensorflow:global_step/sec: 215.339\n",
      "INFO:tensorflow:loss = 0.00257565, step = 14001 (0.464 sec)\n",
      "INFO:tensorflow:global_step/sec: 205.74\n",
      "INFO:tensorflow:loss = 0.0051015, step = 14101 (0.486 sec)\n",
      "INFO:tensorflow:global_step/sec: 155.095\n",
      "INFO:tensorflow:loss = 0.00931561, step = 14201 (0.644 sec)\n",
      "INFO:tensorflow:global_step/sec: 209.68\n",
      "INFO:tensorflow:loss = 0.00167436, step = 14301 (0.477 sec)\n",
      "INFO:tensorflow:global_step/sec: 212.632\n",
      "INFO:tensorflow:loss = 0.00068472, step = 14401 (0.470 sec)\n",
      "INFO:tensorflow:global_step/sec: 193.768\n",
      "INFO:tensorflow:loss = 0.000823331, step = 14501 (0.516 sec)\n",
      "INFO:tensorflow:global_step/sec: 212.877\n",
      "INFO:tensorflow:loss = 0.00392992, step = 14601 (0.470 sec)\n",
      "INFO:tensorflow:global_step/sec: 210.255\n",
      "INFO:tensorflow:loss = 0.00197606, step = 14701 (0.476 sec)\n",
      "INFO:tensorflow:global_step/sec: 193.613\n",
      "INFO:tensorflow:loss = 0.00111108, step = 14801 (0.516 sec)\n",
      "INFO:tensorflow:global_step/sec: 213.406\n",
      "INFO:tensorflow:loss = 0.00252097, step = 14901 (0.469 sec)\n",
      "INFO:tensorflow:global_step/sec: 214.268\n"
     ]
    },
    {
     "name": "stdout",
     "output_type": "stream",
     "text": [
      "INFO:tensorflow:loss = 0.000814515, step = 15001 (0.467 sec)\n",
      "INFO:tensorflow:global_step/sec: 199.11\n",
      "INFO:tensorflow:loss = 0.00237104, step = 15101 (0.506 sec)\n",
      "INFO:tensorflow:global_step/sec: 205.374\n",
      "INFO:tensorflow:loss = 0.00227502, step = 15201 (0.484 sec)\n",
      "INFO:tensorflow:global_step/sec: 189.594\n",
      "INFO:tensorflow:loss = 0.00141252, step = 15301 (0.532 sec)\n",
      "INFO:tensorflow:global_step/sec: 198.025\n",
      "INFO:tensorflow:loss = 0.00455337, step = 15401 (0.501 sec)\n",
      "INFO:tensorflow:global_step/sec: 214.189\n",
      "INFO:tensorflow:loss = 0.00491852, step = 15501 (0.467 sec)\n",
      "INFO:tensorflow:global_step/sec: 189.856\n",
      "INFO:tensorflow:loss = 0.00487903, step = 15601 (0.526 sec)\n",
      "INFO:tensorflow:global_step/sec: 210.082\n",
      "INFO:tensorflow:loss = 0.0134273, step = 15701 (0.476 sec)\n",
      "INFO:tensorflow:global_step/sec: 213.92\n",
      "INFO:tensorflow:loss = 0.00312125, step = 15801 (0.467 sec)\n",
      "INFO:tensorflow:global_step/sec: 213.887\n",
      "INFO:tensorflow:loss = 0.000708232, step = 15901 (0.468 sec)\n",
      "INFO:tensorflow:global_step/sec: 212.017\n",
      "INFO:tensorflow:loss = 0.00560298, step = 16001 (0.472 sec)\n",
      "INFO:tensorflow:global_step/sec: 196.747\n",
      "INFO:tensorflow:loss = 0.00430737, step = 16101 (0.508 sec)\n",
      "INFO:tensorflow:global_step/sec: 187.524\n",
      "INFO:tensorflow:loss = 7.45395e-05, step = 16201 (0.537 sec)\n",
      "INFO:tensorflow:global_step/sec: 195.812\n",
      "INFO:tensorflow:loss = 0.00280412, step = 16301 (0.507 sec)\n",
      "INFO:tensorflow:global_step/sec: 194.066\n",
      "INFO:tensorflow:loss = 0.001583, step = 16401 (0.515 sec)\n",
      "INFO:tensorflow:global_step/sec: 212.301\n",
      "INFO:tensorflow:loss = 0.00205469, step = 16501 (0.471 sec)\n",
      "INFO:tensorflow:global_step/sec: 214.596\n",
      "INFO:tensorflow:loss = 0.00472116, step = 16601 (0.466 sec)\n",
      "INFO:tensorflow:global_step/sec: 207.571\n",
      "INFO:tensorflow:loss = 0.00300912, step = 16701 (0.482 sec)\n",
      "INFO:tensorflow:global_step/sec: 212.728\n",
      "INFO:tensorflow:loss = 0.00221508, step = 16801 (0.470 sec)\n",
      "INFO:tensorflow:global_step/sec: 199.929\n",
      "INFO:tensorflow:loss = 0.00274078, step = 16901 (0.500 sec)\n",
      "INFO:tensorflow:global_step/sec: 212.923\n",
      "INFO:tensorflow:loss = 0.00335069, step = 17001 (0.470 sec)\n",
      "INFO:tensorflow:global_step/sec: 210.733\n",
      "INFO:tensorflow:loss = 0.000582267, step = 17101 (0.474 sec)\n",
      "INFO:tensorflow:global_step/sec: 213.299\n",
      "INFO:tensorflow:loss = 0.00259225, step = 17201 (0.469 sec)\n",
      "INFO:tensorflow:global_step/sec: 215.545\n",
      "INFO:tensorflow:loss = 0.000920891, step = 17301 (0.464 sec)\n",
      "INFO:tensorflow:global_step/sec: 195.384\n",
      "INFO:tensorflow:loss = 0.00217769, step = 17401 (0.513 sec)\n",
      "INFO:tensorflow:global_step/sec: 211.244\n",
      "INFO:tensorflow:loss = 0.00163418, step = 17501 (0.473 sec)\n",
      "INFO:tensorflow:global_step/sec: 210.22\n",
      "INFO:tensorflow:loss = 0.000338328, step = 17601 (0.476 sec)\n",
      "INFO:tensorflow:global_step/sec: 214.979\n",
      "INFO:tensorflow:loss = 0.000893746, step = 17701 (0.465 sec)\n",
      "INFO:tensorflow:global_step/sec: 214.004\n",
      "INFO:tensorflow:loss = 0.000348846, step = 17801 (0.467 sec)\n",
      "INFO:tensorflow:global_step/sec: 191.988\n",
      "INFO:tensorflow:loss = 0.00200284, step = 17901 (0.521 sec)\n",
      "INFO:tensorflow:global_step/sec: 211.719\n",
      "INFO:tensorflow:loss = 0.0012488, step = 18001 (0.472 sec)\n",
      "INFO:tensorflow:global_step/sec: 215.514\n",
      "INFO:tensorflow:loss = 0.00122258, step = 18101 (0.464 sec)\n",
      "INFO:tensorflow:global_step/sec: 212.444\n",
      "INFO:tensorflow:loss = 0.00400346, step = 18201 (0.471 sec)\n",
      "INFO:tensorflow:global_step/sec: 171.916\n",
      "INFO:tensorflow:loss = 0.0154516, step = 18301 (0.582 sec)\n",
      "INFO:tensorflow:global_step/sec: 196.182\n",
      "INFO:tensorflow:loss = 0.00357402, step = 18401 (0.509 sec)\n",
      "INFO:tensorflow:global_step/sec: 206.979\n",
      "INFO:tensorflow:loss = 0.00224499, step = 18501 (0.483 sec)\n",
      "INFO:tensorflow:global_step/sec: 213.235\n",
      "INFO:tensorflow:loss = 0.00348468, step = 18601 (0.469 sec)\n",
      "INFO:tensorflow:global_step/sec: 202.572\n",
      "INFO:tensorflow:loss = 0.00106254, step = 18701 (0.494 sec)\n",
      "INFO:tensorflow:global_step/sec: 197.429\n",
      "INFO:tensorflow:loss = 0.00134678, step = 18801 (0.506 sec)\n",
      "INFO:tensorflow:global_step/sec: 198.074\n",
      "INFO:tensorflow:loss = 0.00304573, step = 18901 (0.505 sec)\n",
      "INFO:tensorflow:global_step/sec: 206.79\n",
      "INFO:tensorflow:loss = 0.00137681, step = 19001 (0.483 sec)\n",
      "INFO:tensorflow:global_step/sec: 216.576\n",
      "INFO:tensorflow:loss = 0.000547609, step = 19101 (0.462 sec)\n",
      "INFO:tensorflow:global_step/sec: 195.55\n",
      "INFO:tensorflow:loss = 0.000463684, step = 19201 (0.512 sec)\n",
      "INFO:tensorflow:global_step/sec: 213.6\n",
      "INFO:tensorflow:loss = 0.00509027, step = 19301 (0.468 sec)\n",
      "INFO:tensorflow:global_step/sec: 213.287\n",
      "INFO:tensorflow:loss = 0.000722533, step = 19401 (0.469 sec)\n",
      "INFO:tensorflow:global_step/sec: 211.862\n",
      "INFO:tensorflow:loss = 0.00281473, step = 19501 (0.472 sec)\n",
      "INFO:tensorflow:global_step/sec: 210.976\n",
      "INFO:tensorflow:loss = 0.000629583, step = 19601 (0.474 sec)\n",
      "INFO:tensorflow:global_step/sec: 193.779\n",
      "INFO:tensorflow:loss = 0.000147449, step = 19701 (0.516 sec)\n",
      "INFO:tensorflow:global_step/sec: 213.154\n",
      "INFO:tensorflow:loss = 0.000430371, step = 19801 (0.469 sec)\n",
      "INFO:tensorflow:global_step/sec: 214.072\n",
      "INFO:tensorflow:loss = 0.00136521, step = 19901 (0.467 sec)\n",
      "INFO:tensorflow:global_step/sec: 214.179\n",
      "INFO:tensorflow:loss = 0.0024896, step = 20001 (0.467 sec)\n",
      "INFO:tensorflow:global_step/sec: 211.715\n",
      "INFO:tensorflow:loss = 0.000431558, step = 20101 (0.472 sec)\n",
      "INFO:tensorflow:global_step/sec: 194.218\n",
      "INFO:tensorflow:loss = 0.00192564, step = 20201 (0.516 sec)\n",
      "INFO:tensorflow:global_step/sec: 184.047\n",
      "INFO:tensorflow:loss = 0.000940824, step = 20301 (0.546 sec)\n",
      "INFO:tensorflow:global_step/sec: 192.49\n",
      "INFO:tensorflow:loss = 0.000245953, step = 20401 (0.515 sec)\n",
      "INFO:tensorflow:global_step/sec: 188.988\n",
      "INFO:tensorflow:loss = 0.00025361, step = 20501 (0.529 sec)\n",
      "INFO:tensorflow:global_step/sec: 214.086\n",
      "INFO:tensorflow:loss = 0.00130026, step = 20601 (0.467 sec)\n",
      "INFO:tensorflow:global_step/sec: 213.277\n",
      "INFO:tensorflow:loss = 0.00123567, step = 20701 (0.469 sec)\n",
      "INFO:tensorflow:global_step/sec: 212.929\n",
      "INFO:tensorflow:loss = 0.00204745, step = 20801 (0.470 sec)\n",
      "INFO:tensorflow:global_step/sec: 212.395\n",
      "INFO:tensorflow:loss = 0.00153957, step = 20901 (0.471 sec)\n",
      "INFO:tensorflow:global_step/sec: 198.789\n",
      "INFO:tensorflow:loss = 0.00241378, step = 21001 (0.503 sec)\n",
      "INFO:tensorflow:global_step/sec: 210.666\n",
      "INFO:tensorflow:loss = 0.00142351, step = 21101 (0.475 sec)\n",
      "INFO:tensorflow:global_step/sec: 214.684\n",
      "INFO:tensorflow:loss = 0.00256507, step = 21201 (0.466 sec)\n",
      "INFO:tensorflow:global_step/sec: 212.312\n",
      "INFO:tensorflow:loss = 0.00106203, step = 21301 (0.471 sec)\n",
      "INFO:tensorflow:global_step/sec: 213.189\n",
      "INFO:tensorflow:loss = 0.0025859, step = 21401 (0.469 sec)\n",
      "INFO:tensorflow:global_step/sec: 197.618\n",
      "INFO:tensorflow:loss = 0.000238369, step = 21501 (0.511 sec)\n",
      "INFO:tensorflow:global_step/sec: 197.978\n",
      "INFO:tensorflow:loss = 0.00158536, step = 21601 (0.500 sec)\n",
      "INFO:tensorflow:global_step/sec: 211.545\n",
      "INFO:tensorflow:loss = 0.000727434, step = 21701 (0.472 sec)\n",
      "INFO:tensorflow:global_step/sec: 199.593\n",
      "INFO:tensorflow:loss = 0.000661301, step = 21801 (0.502 sec)\n",
      "INFO:tensorflow:global_step/sec: 207.041\n",
      "INFO:tensorflow:loss = 0.000490357, step = 21901 (0.482 sec)\n",
      "INFO:tensorflow:global_step/sec: 213.457\n",
      "INFO:tensorflow:loss = 0.000124842, step = 22001 (0.469 sec)\n",
      "INFO:tensorflow:global_step/sec: 212.739\n",
      "INFO:tensorflow:loss = 0.000445235, step = 22101 (0.470 sec)\n",
      "INFO:tensorflow:global_step/sec: 212.351\n",
      "INFO:tensorflow:loss = 0.00133724, step = 22201 (0.471 sec)\n",
      "INFO:tensorflow:global_step/sec: 200.445\n",
      "INFO:tensorflow:loss = 0.00247763, step = 22301 (0.503 sec)\n",
      "INFO:tensorflow:global_step/sec: 168.903\n",
      "INFO:tensorflow:loss = 0.00171271, step = 22401 (0.588 sec)\n",
      "INFO:tensorflow:global_step/sec: 212.725\n",
      "INFO:tensorflow:loss = 0.00149307, step = 22501 (0.470 sec)\n",
      "INFO:tensorflow:global_step/sec: 209.841\n",
      "INFO:tensorflow:loss = 0.00392994, step = 22601 (0.477 sec)\n",
      "INFO:tensorflow:global_step/sec: 214.874\n",
      "INFO:tensorflow:loss = 0.000875101, step = 22701 (0.465 sec)\n",
      "INFO:tensorflow:global_step/sec: 195.338\n",
      "INFO:tensorflow:loss = 0.00118385, step = 22801 (0.512 sec)\n",
      "INFO:tensorflow:global_step/sec: 210.131\n",
      "INFO:tensorflow:loss = 0.00240292, step = 22901 (0.476 sec)\n",
      "INFO:tensorflow:global_step/sec: 213.825\n",
      "INFO:tensorflow:loss = 0.000830913, step = 23001 (0.468 sec)\n",
      "INFO:tensorflow:global_step/sec: 199.689\n",
      "INFO:tensorflow:loss = 0.00284528, step = 23101 (0.504 sec)\n"
     ]
    },
    {
     "name": "stdout",
     "output_type": "stream",
     "text": [
      "INFO:tensorflow:global_step/sec: 206.244\n",
      "INFO:tensorflow:loss = 0.00224091, step = 23201 (0.482 sec)\n",
      "INFO:tensorflow:global_step/sec: 213.341\n",
      "INFO:tensorflow:loss = 0.00193402, step = 23301 (0.470 sec)\n",
      "INFO:tensorflow:global_step/sec: 213.896\n",
      "INFO:tensorflow:loss = 0.000599899, step = 23401 (0.467 sec)\n",
      "INFO:tensorflow:global_step/sec: 214.883\n",
      "INFO:tensorflow:loss = 0.000690191, step = 23501 (0.465 sec)\n",
      "INFO:tensorflow:global_step/sec: 195.458\n",
      "INFO:tensorflow:loss = 0.0006689, step = 23601 (0.512 sec)\n",
      "INFO:tensorflow:global_step/sec: 209.081\n",
      "INFO:tensorflow:loss = 0.000450027, step = 23701 (0.478 sec)\n",
      "INFO:tensorflow:global_step/sec: 213.309\n",
      "INFO:tensorflow:loss = 0.00181704, step = 23801 (0.469 sec)\n",
      "INFO:tensorflow:global_step/sec: 209.208\n",
      "INFO:tensorflow:loss = 0.00110625, step = 23901 (0.478 sec)\n",
      "INFO:tensorflow:global_step/sec: 214.142\n",
      "INFO:tensorflow:loss = 0.000971603, step = 24001 (0.467 sec)\n",
      "INFO:tensorflow:global_step/sec: 202.988\n",
      "INFO:tensorflow:loss = 0.000599703, step = 24101 (0.496 sec)\n",
      "INFO:tensorflow:global_step/sec: 202.045\n",
      "INFO:tensorflow:loss = 0.00103672, step = 24201 (0.492 sec)\n",
      "INFO:tensorflow:global_step/sec: 212.9\n",
      "INFO:tensorflow:loss = 0.000316926, step = 24301 (0.470 sec)\n",
      "INFO:tensorflow:global_step/sec: 196.07\n",
      "INFO:tensorflow:loss = 0.00197788, step = 24401 (0.532 sec)\n",
      "INFO:tensorflow:global_step/sec: 165.843\n",
      "INFO:tensorflow:loss = 0.000518455, step = 24501 (0.582 sec)\n",
      "INFO:tensorflow:global_step/sec: 210.812\n",
      "INFO:tensorflow:loss = 0.000293449, step = 24601 (0.478 sec)\n",
      "INFO:tensorflow:global_step/sec: 212.535\n",
      "INFO:tensorflow:loss = 0.00114909, step = 24701 (0.466 sec)\n",
      "INFO:tensorflow:global_step/sec: 214.137\n",
      "INFO:tensorflow:loss = 0.00152487, step = 24801 (0.467 sec)\n",
      "INFO:tensorflow:global_step/sec: 183.054\n",
      "INFO:tensorflow:loss = 0.00201351, step = 24901 (0.550 sec)\n",
      "INFO:tensorflow:global_step/sec: 203.494\n",
      "INFO:tensorflow:loss = 0.000152594, step = 25001 (0.488 sec)\n",
      "INFO:tensorflow:global_step/sec: 214.606\n",
      "INFO:tensorflow:loss = 0.00193388, step = 25101 (0.466 sec)\n",
      "INFO:tensorflow:global_step/sec: 204.643\n",
      "INFO:tensorflow:loss = 0.00282617, step = 25201 (0.489 sec)\n",
      "INFO:tensorflow:global_step/sec: 215.142\n",
      "INFO:tensorflow:loss = 0.000192127, step = 25301 (0.465 sec)\n",
      "INFO:tensorflow:global_step/sec: 209.561\n",
      "INFO:tensorflow:loss = 0.000797401, step = 25401 (0.478 sec)\n",
      "INFO:tensorflow:global_step/sec: 197.224\n",
      "INFO:tensorflow:loss = 0.00124578, step = 25501 (0.507 sec)\n",
      "INFO:tensorflow:global_step/sec: 210.836\n",
      "INFO:tensorflow:loss = 0.00119779, step = 25601 (0.474 sec)\n",
      "INFO:tensorflow:global_step/sec: 207.241\n",
      "INFO:tensorflow:loss = 0.000874612, step = 25701 (0.482 sec)\n",
      "INFO:tensorflow:global_step/sec: 212.005\n",
      "INFO:tensorflow:loss = 0.00136518, step = 25801 (0.472 sec)\n",
      "INFO:tensorflow:global_step/sec: 215.147\n",
      "INFO:tensorflow:loss = 0.00184243, step = 25901 (0.465 sec)\n",
      "INFO:tensorflow:global_step/sec: 194.933\n",
      "INFO:tensorflow:loss = 7.84672e-05, step = 26001 (0.513 sec)\n",
      "INFO:tensorflow:global_step/sec: 213.776\n",
      "INFO:tensorflow:loss = 0.00103029, step = 26101 (0.468 sec)\n",
      "INFO:tensorflow:global_step/sec: 202.677\n",
      "INFO:tensorflow:loss = 0.000715368, step = 26201 (0.493 sec)\n",
      "INFO:tensorflow:global_step/sec: 213.915\n",
      "INFO:tensorflow:loss = 0.000957418, step = 26301 (0.467 sec)\n",
      "INFO:tensorflow:global_step/sec: 205.958\n",
      "INFO:tensorflow:loss = 0.00165632, step = 26401 (0.486 sec)\n",
      "INFO:tensorflow:global_step/sec: 155.525\n",
      "INFO:tensorflow:loss = 0.00100959, step = 26501 (0.643 sec)\n",
      "INFO:tensorflow:global_step/sec: 212.902\n",
      "INFO:tensorflow:loss = 0.000594357, step = 26601 (0.470 sec)\n",
      "INFO:tensorflow:global_step/sec: 207.246\n",
      "INFO:tensorflow:loss = 3.75124e-05, step = 26701 (0.483 sec)\n",
      "INFO:tensorflow:global_step/sec: 213.022\n",
      "INFO:tensorflow:loss = 0.000775705, step = 26801 (0.470 sec)\n",
      "INFO:tensorflow:global_step/sec: 208.774\n",
      "INFO:tensorflow:loss = 0.000904265, step = 26901 (0.481 sec)\n",
      "INFO:tensorflow:global_step/sec: 197.586\n",
      "INFO:tensorflow:loss = 0.000553487, step = 27001 (0.504 sec)\n",
      "INFO:tensorflow:global_step/sec: 214.502\n",
      "INFO:tensorflow:loss = 0.00042911, step = 27101 (0.466 sec)\n",
      "INFO:tensorflow:global_step/sec: 195.276\n",
      "INFO:tensorflow:loss = 0.000641743, step = 27201 (0.516 sec)\n",
      "INFO:tensorflow:global_step/sec: 190.627\n",
      "INFO:tensorflow:loss = 0.00113445, step = 27301 (0.521 sec)\n",
      "INFO:tensorflow:global_step/sec: 190.5\n",
      "INFO:tensorflow:loss = 0.000147887, step = 27401 (0.527 sec)\n",
      "INFO:tensorflow:global_step/sec: 208.721\n",
      "INFO:tensorflow:loss = 0.00149474, step = 27501 (0.477 sec)\n",
      "INFO:tensorflow:global_step/sec: 214.533\n",
      "INFO:tensorflow:loss = 0.00099866, step = 27601 (0.466 sec)\n",
      "INFO:tensorflow:global_step/sec: 212.236\n",
      "INFO:tensorflow:loss = 0.000368925, step = 27701 (0.471 sec)\n",
      "INFO:tensorflow:global_step/sec: 213.046\n",
      "INFO:tensorflow:loss = 0.000700521, step = 27801 (0.470 sec)\n",
      "INFO:tensorflow:global_step/sec: 204.698\n",
      "INFO:tensorflow:loss = 0.000367836, step = 27901 (0.493 sec)\n",
      "INFO:tensorflow:global_step/sec: 203.917\n",
      "INFO:tensorflow:loss = 0.00131156, step = 28001 (0.485 sec)\n",
      "INFO:tensorflow:global_step/sec: 214.589\n",
      "INFO:tensorflow:loss = 0.000550622, step = 28101 (0.466 sec)\n",
      "INFO:tensorflow:global_step/sec: 213.026\n",
      "INFO:tensorflow:loss = 0.00143182, step = 28201 (0.471 sec)\n",
      "INFO:tensorflow:global_step/sec: 211.245\n",
      "INFO:tensorflow:loss = 0.000660615, step = 28301 (0.472 sec)\n",
      "INFO:tensorflow:global_step/sec: 205.122\n",
      "INFO:tensorflow:loss = 0.00102658, step = 28401 (0.488 sec)\n",
      "INFO:tensorflow:global_step/sec: 165.849\n",
      "INFO:tensorflow:loss = 0.000680939, step = 28501 (0.607 sec)\n",
      "INFO:tensorflow:global_step/sec: 207.355\n",
      "INFO:tensorflow:loss = 0.000403072, step = 28601 (0.478 sec)\n",
      "INFO:tensorflow:global_step/sec: 202.301\n",
      "INFO:tensorflow:loss = 0.000918623, step = 28701 (0.495 sec)\n",
      "INFO:tensorflow:global_step/sec: 212.359\n",
      "INFO:tensorflow:loss = 0.000993003, step = 28801 (0.470 sec)\n",
      "INFO:tensorflow:global_step/sec: 201.36\n",
      "INFO:tensorflow:loss = 0.000232585, step = 28901 (0.499 sec)\n",
      "INFO:tensorflow:global_step/sec: 208.272\n",
      "INFO:tensorflow:loss = 0.00192796, step = 29001 (0.478 sec)\n",
      "INFO:tensorflow:global_step/sec: 212.226\n",
      "INFO:tensorflow:loss = 0.00101591, step = 29101 (0.471 sec)\n",
      "INFO:tensorflow:global_step/sec: 214.91\n",
      "INFO:tensorflow:loss = 0.00169011, step = 29201 (0.465 sec)\n",
      "INFO:tensorflow:global_step/sec: 212.331\n",
      "INFO:tensorflow:loss = 0.00108807, step = 29301 (0.471 sec)\n",
      "INFO:tensorflow:global_step/sec: 201.423\n",
      "INFO:tensorflow:loss = 0.00101428, step = 29401 (0.497 sec)\n",
      "INFO:tensorflow:global_step/sec: 203.871\n",
      "INFO:tensorflow:loss = 0.000796202, step = 29501 (0.490 sec)\n",
      "INFO:tensorflow:global_step/sec: 211.907\n",
      "INFO:tensorflow:loss = 0.000337627, step = 29601 (0.472 sec)\n",
      "INFO:tensorflow:global_step/sec: 211.059\n",
      "INFO:tensorflow:loss = 0.000258813, step = 29701 (0.474 sec)\n",
      "INFO:tensorflow:global_step/sec: 190.146\n",
      "INFO:tensorflow:loss = 0.000616941, step = 29801 (0.526 sec)\n",
      "INFO:tensorflow:global_step/sec: 211.886\n",
      "INFO:tensorflow:loss = 0.00074321, step = 29901 (0.472 sec)\n",
      "INFO:tensorflow:global_step/sec: 213.873\n",
      "INFO:tensorflow:loss = 6.01432e-05, step = 30001 (0.467 sec)\n",
      "INFO:tensorflow:global_step/sec: 213.049\n",
      "INFO:tensorflow:loss = 0.000580716, step = 30101 (0.470 sec)\n",
      "INFO:tensorflow:global_step/sec: 208.087\n",
      "INFO:tensorflow:loss = 0.000218506, step = 30201 (0.482 sec)\n",
      "INFO:tensorflow:global_step/sec: 189.614\n",
      "INFO:tensorflow:loss = 0.000837331, step = 30301 (0.527 sec)\n",
      "INFO:tensorflow:global_step/sec: 210.946\n",
      "INFO:tensorflow:loss = 0.00138102, step = 30401 (0.474 sec)\n",
      "INFO:tensorflow:global_step/sec: 212.281\n",
      "INFO:tensorflow:loss = 0.000929428, step = 30501 (0.471 sec)\n",
      "INFO:tensorflow:global_step/sec: 155.024\n",
      "INFO:tensorflow:loss = 0.00146183, step = 30601 (0.644 sec)\n",
      "INFO:tensorflow:global_step/sec: 211.642\n",
      "INFO:tensorflow:loss = 0.000773375, step = 30701 (0.473 sec)\n",
      "INFO:tensorflow:global_step/sec: 202.222\n",
      "INFO:tensorflow:loss = 0.00110586, step = 30801 (0.495 sec)\n",
      "INFO:tensorflow:global_step/sec: 201.238\n",
      "INFO:tensorflow:loss = 0.00121131, step = 30901 (0.497 sec)\n",
      "INFO:tensorflow:global_step/sec: 184.508\n",
      "INFO:tensorflow:loss = 0.00107659, step = 31001 (0.542 sec)\n",
      "INFO:tensorflow:global_step/sec: 212.255\n",
      "INFO:tensorflow:loss = 0.00138425, step = 31101 (0.471 sec)\n",
      "INFO:tensorflow:global_step/sec: 214.581\n",
      "INFO:tensorflow:loss = 0.000538949, step = 31201 (0.466 sec)\n"
     ]
    },
    {
     "name": "stdout",
     "output_type": "stream",
     "text": [
      "INFO:tensorflow:global_step/sec: 208.856\n",
      "INFO:tensorflow:loss = 0.000428765, step = 31301 (0.480 sec)\n",
      "INFO:tensorflow:global_step/sec: 200.332\n",
      "INFO:tensorflow:loss = 0.000609493, step = 31401 (0.498 sec)\n",
      "INFO:tensorflow:global_step/sec: 211.933\n",
      "INFO:tensorflow:loss = 0.00025601, step = 31501 (0.472 sec)\n",
      "INFO:tensorflow:global_step/sec: 215.859\n",
      "INFO:tensorflow:loss = 8.65842e-05, step = 31601 (0.463 sec)\n",
      "INFO:tensorflow:global_step/sec: 212.994\n",
      "INFO:tensorflow:loss = 0.000604256, step = 31701 (0.470 sec)\n",
      "INFO:tensorflow:global_step/sec: 211.687\n",
      "INFO:tensorflow:loss = 9.59904e-05, step = 31801 (0.472 sec)\n",
      "INFO:tensorflow:global_step/sec: 192.56\n",
      "INFO:tensorflow:loss = 0.00079322, step = 31901 (0.519 sec)\n",
      "INFO:tensorflow:global_step/sec: 198.911\n",
      "INFO:tensorflow:loss = 0.000262161, step = 32001 (0.503 sec)\n",
      "INFO:tensorflow:global_step/sec: 209.884\n",
      "INFO:tensorflow:loss = 0.000368648, step = 32101 (0.476 sec)\n",
      "INFO:tensorflow:global_step/sec: 212.75\n",
      "INFO:tensorflow:loss = 0.00113988, step = 32201 (0.471 sec)\n",
      "INFO:tensorflow:global_step/sec: 207.579\n",
      "INFO:tensorflow:loss = 0.00038782, step = 32301 (0.481 sec)\n",
      "INFO:tensorflow:global_step/sec: 193.024\n",
      "INFO:tensorflow:loss = 0.000149349, step = 32401 (0.517 sec)\n",
      "INFO:tensorflow:global_step/sec: 201.635\n",
      "INFO:tensorflow:loss = 0.000642526, step = 32501 (0.496 sec)\n",
      "INFO:tensorflow:global_step/sec: 171.463\n",
      "INFO:tensorflow:loss = 0.000118947, step = 32601 (0.583 sec)\n",
      "INFO:tensorflow:global_step/sec: 210.446\n",
      "INFO:tensorflow:loss = 0.00136909, step = 32701 (0.475 sec)\n",
      "INFO:tensorflow:global_step/sec: 195.322\n",
      "INFO:tensorflow:loss = 0.00105548, step = 32801 (0.513 sec)\n",
      "INFO:tensorflow:global_step/sec: 199.039\n",
      "INFO:tensorflow:loss = 0.0003802, step = 32901 (0.502 sec)\n",
      "INFO:tensorflow:global_step/sec: 213.543\n",
      "INFO:tensorflow:loss = 0.000608995, step = 33001 (0.468 sec)\n",
      "INFO:tensorflow:global_step/sec: 213.539\n",
      "INFO:tensorflow:loss = 0.0019107, step = 33101 (0.469 sec)\n",
      "INFO:tensorflow:global_step/sec: 212.339\n",
      "INFO:tensorflow:loss = 0.000916178, step = 33201 (0.471 sec)\n",
      "INFO:tensorflow:global_step/sec: 201.914\n",
      "INFO:tensorflow:loss = 0.000244862, step = 33301 (0.497 sec)\n",
      "INFO:tensorflow:global_step/sec: 205.406\n",
      "INFO:tensorflow:loss = 0.00129239, step = 33401 (0.485 sec)\n",
      "INFO:tensorflow:global_step/sec: 213.041\n",
      "INFO:tensorflow:loss = 0.000242947, step = 33501 (0.469 sec)\n",
      "INFO:tensorflow:global_step/sec: 212.356\n",
      "INFO:tensorflow:loss = 0.000883703, step = 33601 (0.471 sec)\n",
      "INFO:tensorflow:global_step/sec: 211.735\n",
      "INFO:tensorflow:loss = 0.000904791, step = 33701 (0.472 sec)\n",
      "INFO:tensorflow:global_step/sec: 195.828\n",
      "INFO:tensorflow:loss = 0.00107614, step = 33801 (0.512 sec)\n",
      "INFO:tensorflow:global_step/sec: 206.974\n",
      "INFO:tensorflow:loss = 0.00107961, step = 33901 (0.482 sec)\n",
      "INFO:tensorflow:global_step/sec: 211.01\n",
      "INFO:tensorflow:loss = 0.000613074, step = 34001 (0.474 sec)\n",
      "INFO:tensorflow:global_step/sec: 206.748\n",
      "INFO:tensorflow:loss = 0.00085227, step = 34101 (0.484 sec)\n",
      "INFO:tensorflow:global_step/sec: 199.815\n",
      "INFO:tensorflow:loss = 0.00112095, step = 34201 (0.501 sec)\n",
      "INFO:tensorflow:global_step/sec: 213.797\n",
      "INFO:tensorflow:loss = 0.000104322, step = 34301 (0.468 sec)\n",
      "INFO:tensorflow:global_step/sec: 206.464\n",
      "INFO:tensorflow:loss = 0.000506521, step = 34401 (0.486 sec)\n",
      "INFO:tensorflow:global_step/sec: 192.465\n",
      "INFO:tensorflow:loss = 0.000799231, step = 34501 (0.518 sec)\n",
      "INFO:tensorflow:global_step/sec: 182.964\n",
      "INFO:tensorflow:loss = 0.000381998, step = 34601 (0.551 sec)\n",
      "INFO:tensorflow:global_step/sec: 197.236\n",
      "INFO:tensorflow:loss = 0.00197285, step = 34701 (0.503 sec)\n",
      "INFO:tensorflow:global_step/sec: 188.14\n",
      "INFO:tensorflow:loss = 0.00050132, step = 34801 (0.531 sec)\n",
      "INFO:tensorflow:global_step/sec: 213.689\n",
      "INFO:tensorflow:loss = 0.000430059, step = 34901 (0.468 sec)\n",
      "INFO:tensorflow:global_step/sec: 207.447\n",
      "INFO:tensorflow:loss = 0.000284109, step = 35001 (0.482 sec)\n",
      "INFO:tensorflow:global_step/sec: 215.647\n",
      "INFO:tensorflow:loss = 0.0012278, step = 35101 (0.464 sec)\n",
      "INFO:tensorflow:global_step/sec: 205.686\n",
      "INFO:tensorflow:loss = 0.000280491, step = 35201 (0.486 sec)\n",
      "INFO:tensorflow:global_step/sec: 202.014\n",
      "INFO:tensorflow:loss = 0.000161269, step = 35301 (0.495 sec)\n",
      "INFO:tensorflow:global_step/sec: 211.629\n",
      "INFO:tensorflow:loss = 0.00105551, step = 35401 (0.472 sec)\n",
      "INFO:tensorflow:global_step/sec: 215.606\n",
      "INFO:tensorflow:loss = 0.000203097, step = 35501 (0.464 sec)\n",
      "INFO:tensorflow:global_step/sec: 213.479\n",
      "INFO:tensorflow:loss = 0.000242335, step = 35601 (0.468 sec)\n",
      "INFO:tensorflow:global_step/sec: 214.135\n",
      "INFO:tensorflow:loss = 0.00086094, step = 35701 (0.467 sec)\n",
      "INFO:tensorflow:global_step/sec: 189.907\n",
      "INFO:tensorflow:loss = 0.000918586, step = 35801 (0.527 sec)\n",
      "INFO:tensorflow:global_step/sec: 215.263\n",
      "INFO:tensorflow:loss = 0.000671677, step = 35901 (0.464 sec)\n",
      "INFO:tensorflow:global_step/sec: 212.243\n",
      "INFO:tensorflow:loss = 0.000370165, step = 36001 (0.474 sec)\n",
      "INFO:tensorflow:global_step/sec: 213.242\n",
      "INFO:tensorflow:loss = 0.00120145, step = 36101 (0.466 sec)\n",
      "INFO:tensorflow:global_step/sec: 214.138\n",
      "INFO:tensorflow:loss = 0.000768125, step = 36201 (0.467 sec)\n",
      "INFO:tensorflow:global_step/sec: 197.502\n",
      "INFO:tensorflow:loss = 0.000106661, step = 36301 (0.506 sec)\n",
      "INFO:tensorflow:global_step/sec: 211.386\n",
      "INFO:tensorflow:loss = 0.000681248, step = 36401 (0.476 sec)\n",
      "INFO:tensorflow:global_step/sec: 212.847\n",
      "INFO:tensorflow:loss = 0.000214154, step = 36501 (0.467 sec)\n",
      "INFO:tensorflow:global_step/sec: 197.682\n",
      "INFO:tensorflow:loss = 0.000239673, step = 36601 (0.506 sec)\n",
      "INFO:tensorflow:global_step/sec: 171.87\n",
      "INFO:tensorflow:loss = 0.000405055, step = 36701 (0.582 sec)\n",
      "INFO:tensorflow:global_step/sec: 209.851\n",
      "INFO:tensorflow:loss = 0.000852568, step = 36801 (0.476 sec)\n",
      "INFO:tensorflow:global_step/sec: 213.889\n",
      "INFO:tensorflow:loss = 0.000667005, step = 36901 (0.468 sec)\n",
      "INFO:tensorflow:global_step/sec: 214.831\n",
      "INFO:tensorflow:loss = 0.000488099, step = 37001 (0.465 sec)\n",
      "INFO:tensorflow:global_step/sec: 185.534\n",
      "INFO:tensorflow:loss = 0.000311534, step = 37101 (0.539 sec)\n",
      "INFO:tensorflow:global_step/sec: 196.89\n",
      "INFO:tensorflow:loss = 0.000358862, step = 37201 (0.508 sec)\n",
      "INFO:tensorflow:global_step/sec: 208.527\n",
      "INFO:tensorflow:loss = 0.000707558, step = 37301 (0.480 sec)\n",
      "INFO:tensorflow:global_step/sec: 207.019\n",
      "INFO:tensorflow:loss = 0.000318062, step = 37401 (0.486 sec)\n",
      "INFO:tensorflow:global_step/sec: 211.75\n",
      "INFO:tensorflow:loss = 0.000298998, step = 37501 (0.469 sec)\n",
      "INFO:tensorflow:global_step/sec: 196.02\n",
      "INFO:tensorflow:loss = 0.000414938, step = 37601 (0.510 sec)\n",
      "INFO:tensorflow:global_step/sec: 211.065\n",
      "INFO:tensorflow:loss = 0.000145852, step = 37701 (0.474 sec)\n",
      "INFO:tensorflow:global_step/sec: 214.92\n",
      "INFO:tensorflow:loss = 0.000346428, step = 37801 (0.465 sec)\n",
      "INFO:tensorflow:global_step/sec: 211.055\n",
      "INFO:tensorflow:loss = 0.0015781, step = 37901 (0.474 sec)\n",
      "INFO:tensorflow:global_step/sec: 208.781\n",
      "INFO:tensorflow:loss = 0.000307783, step = 38001 (0.479 sec)\n",
      "INFO:tensorflow:global_step/sec: 195.285\n",
      "INFO:tensorflow:loss = 0.00120952, step = 38101 (0.512 sec)\n",
      "INFO:tensorflow:global_step/sec: 213.996\n",
      "INFO:tensorflow:loss = 0.000719946, step = 38201 (0.467 sec)\n",
      "INFO:tensorflow:global_step/sec: 212.424\n",
      "INFO:tensorflow:loss = 9.19537e-05, step = 38301 (0.471 sec)\n",
      "INFO:tensorflow:global_step/sec: 214.519\n",
      "INFO:tensorflow:loss = 0.000204637, step = 38401 (0.466 sec)\n",
      "INFO:tensorflow:global_step/sec: 212.121\n",
      "INFO:tensorflow:loss = 0.000502236, step = 38501 (0.471 sec)\n",
      "INFO:tensorflow:global_step/sec: 191.514\n",
      "INFO:tensorflow:loss = 0.000743682, step = 38601 (0.522 sec)\n",
      "INFO:tensorflow:global_step/sec: 183.501\n",
      "INFO:tensorflow:loss = 0.000451052, step = 38701 (0.548 sec)\n",
      "INFO:tensorflow:global_step/sec: 198.348\n",
      "INFO:tensorflow:loss = 0.000246905, step = 38801 (0.501 sec)\n",
      "INFO:tensorflow:global_step/sec: 212.702\n",
      "INFO:tensorflow:loss = 0.00129647, step = 38901 (0.470 sec)\n",
      "INFO:tensorflow:global_step/sec: 209.432\n",
      "INFO:tensorflow:loss = 0.000217024, step = 39001 (0.478 sec)\n",
      "INFO:tensorflow:global_step/sec: 198.808\n",
      "INFO:tensorflow:loss = 0.000741188, step = 39101 (0.502 sec)\n",
      "INFO:tensorflow:global_step/sec: 213.283\n",
      "INFO:tensorflow:loss = 0.000570652, step = 39201 (0.469 sec)\n",
      "INFO:tensorflow:global_step/sec: 213.259\n",
      "INFO:tensorflow:loss = 0.000307514, step = 39301 (0.469 sec)\n"
     ]
    },
    {
     "name": "stdout",
     "output_type": "stream",
     "text": [
      "INFO:tensorflow:global_step/sec: 214.502\n",
      "INFO:tensorflow:loss = 0.00066551, step = 39401 (0.467 sec)\n",
      "INFO:tensorflow:global_step/sec: 214.19\n",
      "INFO:tensorflow:loss = 0.000248625, step = 39501 (0.467 sec)\n",
      "INFO:tensorflow:global_step/sec: 201.197\n",
      "INFO:tensorflow:loss = 0.000750375, step = 39601 (0.497 sec)\n",
      "INFO:tensorflow:global_step/sec: 212.162\n",
      "INFO:tensorflow:loss = 0.000224784, step = 39701 (0.471 sec)\n",
      "INFO:tensorflow:global_step/sec: 214.812\n",
      "INFO:tensorflow:loss = 0.00105966, step = 39801 (0.465 sec)\n",
      "INFO:tensorflow:global_step/sec: 194.884\n",
      "INFO:tensorflow:loss = 0.00136582, step = 39901 (0.517 sec)\n",
      "INFO:tensorflow:Saving checkpoints for 40000 into /var/folders/xf/dsgz0s3x35n_s3_y80jwpxgm0000gn/T/tmpjv98jgdd/model.ckpt.\n",
      "INFO:tensorflow:Loss for final step: 0.00045437.\n"
     ]
    },
    {
     "data": {
      "text/plain": [
       "SKCompat()"
      ]
     },
     "execution_count": 26,
     "metadata": {},
     "output_type": "execute_result"
    }
   ],
   "source": [
    "import tensorflow as tf\n",
    "\n",
    "config = tf.contrib.learn.RunConfig(tf_random_seed=42) # not shown in the config\n",
    "\n",
    "feature_cols = tf.contrib.learn.infer_real_valued_columns_from_input(X_train)\n",
    "dnn_clf = tf.contrib.learn.DNNClassifier(hidden_units=[300,100], n_classes=10,\n",
    "                                         feature_columns=feature_cols, config=config)\n",
    "dnn_clf = tf.contrib.learn.SKCompat(dnn_clf) # if TensorFlow >= 1.1\n",
    "dnn_clf.fit(X_train, y_train, batch_size=50, steps=40000)"
   ]
  },
  {
   "cell_type": "code",
   "execution_count": 30,
   "metadata": {},
   "outputs": [
    {
     "name": "stdout",
     "output_type": "stream",
     "text": [
      "INFO:tensorflow:Restoring parameters from /var/folders/xf/dsgz0s3x35n_s3_y80jwpxgm0000gn/T/tmpjv98jgdd/model.ckpt-40000\n"
     ]
    },
    {
     "data": {
      "text/plain": [
       "0.98240000000000005"
      ]
     },
     "execution_count": 30,
     "metadata": {},
     "output_type": "execute_result"
    }
   ],
   "source": [
    "from sklearn.metrics import accuracy_score\n",
    "\n",
    "y_pred = dnn_clf.predict(X_test)\n",
    "accuracy_score(y_test, y_pred['classes'])\n"
   ]
  },
  {
   "cell_type": "code",
   "execution_count": 29,
   "metadata": {},
   "outputs": [
    {
     "data": {
      "text/plain": [
       "0.071563045266568537"
      ]
     },
     "execution_count": 29,
     "metadata": {},
     "output_type": "execute_result"
    }
   ],
   "source": [
    "from sklearn.metrics import log_loss\n",
    "\n",
    "y_pred_proba = y_pred['probabilities']\n",
    "log_loss(y_test, y_pred_proba)"
   ]
  },
  {
   "cell_type": "markdown",
   "metadata": {},
   "source": [
    "## Using plain TensorFlow"
   ]
  },
  {
   "cell_type": "code",
   "execution_count": 67,
   "metadata": {
    "collapsed": true
   },
   "outputs": [],
   "source": [
    "import tensorflow as tf\n",
    "\n",
    "n_inputs = 28*28\n",
    "n_hidden1 = 300\n",
    "n_hidden2 = 100\n",
    "n_outputs = 10"
   ]
  },
  {
   "cell_type": "code",
   "execution_count": 68,
   "metadata": {},
   "outputs": [],
   "source": [
    "reset_graph()\n",
    "\n",
    "X = tf.placeholder(tf.float32, shape=(None, n_inputs), name=\"X\")\n",
    "y = tf.placeholder(tf.int64, shape=(None), name=\"y\")"
   ]
  },
  {
   "cell_type": "code",
   "execution_count": 69,
   "metadata": {
    "collapsed": true
   },
   "outputs": [],
   "source": [
    "def neuron_layer(X, n_neurons, name, activation=None):\n",
    "    with tf.name_scope(name):\n",
    "        n_inputs = int(X.get_shape()[1])\n",
    "        stddev = 2 / np.sqrt(n_inputs)\n",
    "        init = tf.truncated_normal((n_inputs, n_neurons), stddev=stddev)\n",
    "        W = tf.Variable(init, name=\"kernel\")\n",
    "        b = tf.Variable(tf.zeros([n_neurons]), name=\"bias\")\n",
    "        Z = tf.matmul(X, W) + b\n",
    "        if activation is not None:\n",
    "            return activation(Z)\n",
    "        else:\n",
    "            return Z\n",
    "        "
   ]
  },
  {
   "cell_type": "code",
   "execution_count": 70,
   "metadata": {
    "collapsed": true
   },
   "outputs": [],
   "source": [
    "with tf.name_scope(\"dnn\"):\n",
    "    hidden1 = neuron_layer(X, n_hidden1, name=\"hidden1\",\n",
    "                          activation=tf.nn.relu)\n",
    "    hidden2 = neuron_layer(hidden1, n_hidden2, name=\"hidden2\",\n",
    "                           activation=tf.nn.relu)\n",
    "    logits = neuron_layer(hidden2, n_outputs, name=\"outputs\")"
   ]
  },
  {
   "cell_type": "code",
   "execution_count": 92,
   "metadata": {},
   "outputs": [],
   "source": [
    "with tf.name_scope(\"loss\"):\n",
    "    xentropy = tf.nn.sparse_softmax_cross_entropy_with_logits(labels=y,\n",
    "                                                              logits=logits)\n",
    "    loss = tf.reduce_mean(xentropy, name=\"loss\")\n"
   ]
  },
  {
   "cell_type": "code",
   "execution_count": 93,
   "metadata": {},
   "outputs": [],
   "source": [
    "learning_rate = 0.01\n",
    "\n",
    "with tf.name_scope(\"train\"):\n",
    "    optimizer = tf.train.GradientDescentOptimizer(learning_rate)\n",
    "    training_op = optimizer.minimize(loss)\n",
    "\n"
   ]
  },
  {
   "cell_type": "code",
   "execution_count": 94,
   "metadata": {
    "collapsed": true
   },
   "outputs": [],
   "source": [
    "with tf.name_scope(\"eval\"):\n",
    "    correct = tf.nn.in_top_k(logits, y, 1)\n",
    "    accuracy = tf.reduce_mean(tf.cast(correct, tf.float32))\n"
   ]
  },
  {
   "cell_type": "code",
   "execution_count": 95,
   "metadata": {
    "collapsed": true
   },
   "outputs": [],
   "source": [
    "init = tf.global_variables_initializer()\n",
    "saver = tf.train.Saver()"
   ]
  },
  {
   "cell_type": "code",
   "execution_count": 96,
   "metadata": {
    "collapsed": true
   },
   "outputs": [],
   "source": [
    "n_epochs = 40\n",
    "batch_size = 50"
   ]
  },
  {
   "cell_type": "code",
   "execution_count": 98,
   "metadata": {},
   "outputs": [
    {
     "name": "stdout",
     "output_type": "stream",
     "text": [
      "0 Train accuracy: 0.96 Test accuracy: 0.9133\n",
      "1 Train accuracy: 0.96 Test accuracy: 0.9317\n",
      "2 Train accuracy: 0.98 Test accuracy: 0.9389\n",
      "3 Train accuracy: 0.94 Test accuracy: 0.947\n",
      "4 Train accuracy: 0.96 Test accuracy: 0.9507\n",
      "5 Train accuracy: 1.0 Test accuracy: 0.9547\n",
      "6 Train accuracy: 0.96 Test accuracy: 0.957\n",
      "7 Train accuracy: 1.0 Test accuracy: 0.9605\n",
      "8 Train accuracy: 0.94 Test accuracy: 0.9599\n",
      "9 Train accuracy: 0.94 Test accuracy: 0.9639\n",
      "10 Train accuracy: 0.96 Test accuracy: 0.9669\n",
      "11 Train accuracy: 0.96 Test accuracy: 0.9676\n",
      "12 Train accuracy: 0.96 Test accuracy: 0.9682\n",
      "13 Train accuracy: 1.0 Test accuracy: 0.9696\n",
      "14 Train accuracy: 1.0 Test accuracy: 0.9695\n",
      "15 Train accuracy: 0.98 Test accuracy: 0.9711\n",
      "16 Train accuracy: 0.96 Test accuracy: 0.971\n",
      "17 Train accuracy: 0.98 Test accuracy: 0.9715\n",
      "18 Train accuracy: 0.98 Test accuracy: 0.9724\n",
      "19 Train accuracy: 0.98 Test accuracy: 0.973\n",
      "20 Train accuracy: 1.0 Test accuracy: 0.9732\n",
      "21 Train accuracy: 1.0 Test accuracy: 0.9736\n",
      "22 Train accuracy: 1.0 Test accuracy: 0.9744\n",
      "23 Train accuracy: 1.0 Test accuracy: 0.9735\n",
      "24 Train accuracy: 1.0 Test accuracy: 0.9759\n",
      "25 Train accuracy: 1.0 Test accuracy: 0.9744\n",
      "26 Train accuracy: 1.0 Test accuracy: 0.9753\n",
      "27 Train accuracy: 1.0 Test accuracy: 0.9758\n",
      "28 Train accuracy: 0.98 Test accuracy: 0.9764\n",
      "29 Train accuracy: 1.0 Test accuracy: 0.9769\n",
      "30 Train accuracy: 1.0 Test accuracy: 0.9768\n",
      "31 Train accuracy: 1.0 Test accuracy: 0.9767\n",
      "32 Train accuracy: 0.98 Test accuracy: 0.9775\n",
      "33 Train accuracy: 1.0 Test accuracy: 0.9773\n",
      "34 Train accuracy: 1.0 Test accuracy: 0.9777\n",
      "35 Train accuracy: 1.0 Test accuracy: 0.977\n",
      "36 Train accuracy: 1.0 Test accuracy: 0.978\n",
      "37 Train accuracy: 1.0 Test accuracy: 0.978\n",
      "38 Train accuracy: 1.0 Test accuracy: 0.978\n",
      "39 Train accuracy: 1.0 Test accuracy: 0.9782\n"
     ]
    }
   ],
   "source": [
    "with tf.Session() as sess:\n",
    "    init.run()\n",
    "    for epoch in range(n_epochs):\n",
    "        for iteration in range(mnist.train.num_examples // batch_size):\n",
    "            X_batch, y_batch = mnist.train.next_batch(batch_size)\n",
    "\n",
    "            sess.run(training_op, feed_dict={X: X_batch, y: y_batch})\n",
    "        acc_train = accuracy.eval(feed_dict={X: X_batch, y: y_batch})\n",
    "        acc_test = accuracy.eval(feed_dict={X: mnist.test.images,\n",
    "                                            y: mnist.test.labels})\n",
    "        print(epoch, \"Train accuracy:\", acc_train, \"Test accuracy:\", acc_test)\n",
    "\n",
    "    save_path = saver.save(sess, \"./my_model_final.ckpt\")"
   ]
  },
  {
   "cell_type": "code",
   "execution_count": 81,
   "metadata": {},
   "outputs": [
    {
     "name": "stdout",
     "output_type": "stream",
     "text": [
      "INFO:tensorflow:Restoring parameters from ./my_model_final.ckpt\n"
     ]
    }
   ],
   "source": [
    "with tf.Session() as sess:\n",
    "    saver.restore(sess, \"./my_model_final.ckpt\") # or better, use save_path\n",
    "    X_new_scaled = mnist.test.images[:20]\n",
    "    Z = logits.eval(feed_dict={X: X_new_scaled})\n",
    "\n",
    "    \n",
    "    y_pred = np.argmax(Z, axis=1)"
   ]
  },
  {
   "cell_type": "code",
   "execution_count": 51,
   "metadata": {},
   "outputs": [
    {
     "name": "stdout",
     "output_type": "stream",
     "text": [
      "Predicted classes: [7 2 1 0 4 1 4 9 6 9 0 6 9 0 1 5 9 7 3 4]\n",
      "Actual classes:    [7 2 1 0 4 1 4 9 5 9 0 6 9 0 1 5 9 7 3 4]\n"
     ]
    }
   ],
   "source": [
    "print(\"Predicted classes:\", y_pred)\n",
    "print(\"Actual classes:   \", mnist.test.labels[:20])"
   ]
  },
  {
   "cell_type": "code",
   "execution_count": 53,
   "metadata": {
    "collapsed": true
   },
   "outputs": [],
   "source": [
    "from IPython.display import clear_output, Image, display, HTML\n",
    "\n",
    "def strip_consts(graph_def, max_const_size=32):\n",
    "    \"\"\"Strip large constant values from graph_def.\"\"\"\n",
    "    strip_def = tf.GraphDef()\n",
    "    for n0 in graph_def.node:\n",
    "        n = strip_def.node.add() \n",
    "        n.MergeFrom(n0)\n",
    "        if n.op == 'Const':\n",
    "            tensor = n.attr['value'].tensor\n",
    "            size = len(tensor.tensor_content)\n",
    "            if size > max_const_size:\n",
    "                tensor.tensor_content = b\"<stripped %d bytes>\"%size\n",
    "    return strip_def\n",
    "\n",
    "def show_graph(graph_def, max_const_size=32):\n",
    "    \"\"\"Visualize TensorFlow graph.\"\"\"\n",
    "    if hasattr(graph_def, 'as_graph_def'):\n",
    "        graph_def = graph_def.as_graph_def()\n",
    "    strip_def = strip_consts(graph_def, max_const_size=max_const_size)\n",
    "    code = \"\"\"\n",
    "        <script>\n",
    "          function load() {{\n",
    "            document.getElementById(\"{id}\").pbtxt = {data};\n",
    "          }}\n",
    "        </script>\n",
    "        <link rel=\"import\" href=\"https://tensorboard.appspot.com/tf-graph-basic.build.html\" onload=load()>\n",
    "        <div style=\"height:600px\">\n",
    "          <tf-graph-basic id=\"{id}\"></tf-graph-basic>\n",
    "        </div>\n",
    "    \"\"\".format(data=repr(str(strip_def)), id='graph'+str(np.random.rand()))\n",
    "\n",
    "    iframe = \"\"\"\n",
    "        <iframe seamless style=\"width:1200px;height:620px;border:0\" srcdoc=\"{}\"></iframe>\n",
    "    \"\"\".format(code.replace('\"', '&quot;'))\n",
    "    display(HTML(iframe))"
   ]
  },
  {
   "cell_type": "code",
   "execution_count": 54,
   "metadata": {},
   "outputs": [
    {
     "data": {
      "text/html": [
       "\n",
       "        <iframe seamless style=\"width:1200px;height:620px;border:0\" srcdoc=\"\n",
       "        <script>\n",
       "          function load() {\n",
       "            document.getElementById(&quot;graph0.2851015593374667&quot;).pbtxt = 'node {\\n  name: &quot;X&quot;\\n  op: &quot;Placeholder&quot;\\n  attr {\\n    key: &quot;dtype&quot;\\n    value {\\n      type: DT_FLOAT\\n    }\\n  }\\n  attr {\\n    key: &quot;shape&quot;\\n    value {\\n      shape {\\n        dim {\\n          size: -1\\n        }\\n        dim {\\n          size: 784\\n        }\\n      }\\n    }\\n  }\\n}\\nnode {\\n  name: &quot;y&quot;\\n  op: &quot;Placeholder&quot;\\n  attr {\\n    key: &quot;dtype&quot;\\n    value {\\n      type: DT_INT64\\n    }\\n  }\\n  attr {\\n    key: &quot;shape&quot;\\n    value {\\n      shape {\\n        unknown_rank: true\\n      }\\n    }\\n  }\\n}\\nnode {\\n  name: &quot;dnn/hidden1/truncated_normal/shape&quot;\\n  op: &quot;Const&quot;\\n  attr {\\n    key: &quot;dtype&quot;\\n    value {\\n      type: DT_INT32\\n    }\\n  }\\n  attr {\\n    key: &quot;value&quot;\\n    value {\\n      tensor {\\n        dtype: DT_INT32\\n        tensor_shape {\\n          dim {\\n            size: 2\\n          }\\n        }\\n        tensor_content: &quot;\\\\020\\\\003\\\\000\\\\000,\\\\001\\\\000\\\\000&quot;\\n      }\\n    }\\n  }\\n}\\nnode {\\n  name: &quot;dnn/hidden1/truncated_normal/mean&quot;\\n  op: &quot;Const&quot;\\n  attr {\\n    key: &quot;dtype&quot;\\n    value {\\n      type: DT_FLOAT\\n    }\\n  }\\n  attr {\\n    key: &quot;value&quot;\\n    value {\\n      tensor {\\n        dtype: DT_FLOAT\\n        tensor_shape {\\n        }\\n        float_val: 0.0\\n      }\\n    }\\n  }\\n}\\nnode {\\n  name: &quot;dnn/hidden1/truncated_normal/stddev&quot;\\n  op: &quot;Const&quot;\\n  attr {\\n    key: &quot;dtype&quot;\\n    value {\\n      type: DT_FLOAT\\n    }\\n  }\\n  attr {\\n    key: &quot;value&quot;\\n    value {\\n      tensor {\\n        dtype: DT_FLOAT\\n        tensor_shape {\\n        }\\n        float_val: 0.0714285746216774\\n      }\\n    }\\n  }\\n}\\nnode {\\n  name: &quot;dnn/hidden1/truncated_normal/TruncatedNormal&quot;\\n  op: &quot;TruncatedNormal&quot;\\n  input: &quot;dnn/hidden1/truncated_normal/shape&quot;\\n  attr {\\n    key: &quot;T&quot;\\n    value {\\n      type: DT_INT32\\n    }\\n  }\\n  attr {\\n    key: &quot;dtype&quot;\\n    value {\\n      type: DT_FLOAT\\n    }\\n  }\\n  attr {\\n    key: &quot;seed&quot;\\n    value {\\n      i: 42\\n    }\\n  }\\n  attr {\\n    key: &quot;seed2&quot;\\n    value {\\n      i: 5\\n    }\\n  }\\n}\\nnode {\\n  name: &quot;dnn/hidden1/truncated_normal/mul&quot;\\n  op: &quot;Mul&quot;\\n  input: &quot;dnn/hidden1/truncated_normal/TruncatedNormal&quot;\\n  input: &quot;dnn/hidden1/truncated_normal/stddev&quot;\\n  attr {\\n    key: &quot;T&quot;\\n    value {\\n      type: DT_FLOAT\\n    }\\n  }\\n}\\nnode {\\n  name: &quot;dnn/hidden1/truncated_normal&quot;\\n  op: &quot;Add&quot;\\n  input: &quot;dnn/hidden1/truncated_normal/mul&quot;\\n  input: &quot;dnn/hidden1/truncated_normal/mean&quot;\\n  attr {\\n    key: &quot;T&quot;\\n    value {\\n      type: DT_FLOAT\\n    }\\n  }\\n}\\nnode {\\n  name: &quot;dnn/hidden1/kernel&quot;\\n  op: &quot;VariableV2&quot;\\n  attr {\\n    key: &quot;container&quot;\\n    value {\\n      s: &quot;&quot;\\n    }\\n  }\\n  attr {\\n    key: &quot;dtype&quot;\\n    value {\\n      type: DT_FLOAT\\n    }\\n  }\\n  attr {\\n    key: &quot;shape&quot;\\n    value {\\n      shape {\\n        dim {\\n          size: 784\\n        }\\n        dim {\\n          size: 300\\n        }\\n      }\\n    }\\n  }\\n  attr {\\n    key: &quot;shared_name&quot;\\n    value {\\n      s: &quot;&quot;\\n    }\\n  }\\n}\\nnode {\\n  name: &quot;dnn/hidden1/kernel/Assign&quot;\\n  op: &quot;Assign&quot;\\n  input: &quot;dnn/hidden1/kernel&quot;\\n  input: &quot;dnn/hidden1/truncated_normal&quot;\\n  attr {\\n    key: &quot;T&quot;\\n    value {\\n      type: DT_FLOAT\\n    }\\n  }\\n  attr {\\n    key: &quot;_class&quot;\\n    value {\\n      list {\\n        s: &quot;loc:@dnn/hidden1/kernel&quot;\\n      }\\n    }\\n  }\\n  attr {\\n    key: &quot;use_locking&quot;\\n    value {\\n      b: true\\n    }\\n  }\\n  attr {\\n    key: &quot;validate_shape&quot;\\n    value {\\n      b: true\\n    }\\n  }\\n}\\nnode {\\n  name: &quot;dnn/hidden1/kernel/read&quot;\\n  op: &quot;Identity&quot;\\n  input: &quot;dnn/hidden1/kernel&quot;\\n  attr {\\n    key: &quot;T&quot;\\n    value {\\n      type: DT_FLOAT\\n    }\\n  }\\n  attr {\\n    key: &quot;_class&quot;\\n    value {\\n      list {\\n        s: &quot;loc:@dnn/hidden1/kernel&quot;\\n      }\\n    }\\n  }\\n}\\nnode {\\n  name: &quot;dnn/hidden1/zeros&quot;\\n  op: &quot;Const&quot;\\n  attr {\\n    key: &quot;dtype&quot;\\n    value {\\n      type: DT_FLOAT\\n    }\\n  }\\n  attr {\\n    key: &quot;value&quot;\\n    value {\\n      tensor {\\n        dtype: DT_FLOAT\\n        tensor_shape {\\n          dim {\\n            size: 300\\n          }\\n        }\\n        float_val: 0.0\\n      }\\n    }\\n  }\\n}\\nnode {\\n  name: &quot;dnn/hidden1/bias&quot;\\n  op: &quot;VariableV2&quot;\\n  attr {\\n    key: &quot;container&quot;\\n    value {\\n      s: &quot;&quot;\\n    }\\n  }\\n  attr {\\n    key: &quot;dtype&quot;\\n    value {\\n      type: DT_FLOAT\\n    }\\n  }\\n  attr {\\n    key: &quot;shape&quot;\\n    value {\\n      shape {\\n        dim {\\n          size: 300\\n        }\\n      }\\n    }\\n  }\\n  attr {\\n    key: &quot;shared_name&quot;\\n    value {\\n      s: &quot;&quot;\\n    }\\n  }\\n}\\nnode {\\n  name: &quot;dnn/hidden1/bias/Assign&quot;\\n  op: &quot;Assign&quot;\\n  input: &quot;dnn/hidden1/bias&quot;\\n  input: &quot;dnn/hidden1/zeros&quot;\\n  attr {\\n    key: &quot;T&quot;\\n    value {\\n      type: DT_FLOAT\\n    }\\n  }\\n  attr {\\n    key: &quot;_class&quot;\\n    value {\\n      list {\\n        s: &quot;loc:@dnn/hidden1/bias&quot;\\n      }\\n    }\\n  }\\n  attr {\\n    key: &quot;use_locking&quot;\\n    value {\\n      b: true\\n    }\\n  }\\n  attr {\\n    key: &quot;validate_shape&quot;\\n    value {\\n      b: true\\n    }\\n  }\\n}\\nnode {\\n  name: &quot;dnn/hidden1/bias/read&quot;\\n  op: &quot;Identity&quot;\\n  input: &quot;dnn/hidden1/bias&quot;\\n  attr {\\n    key: &quot;T&quot;\\n    value {\\n      type: DT_FLOAT\\n    }\\n  }\\n  attr {\\n    key: &quot;_class&quot;\\n    value {\\n      list {\\n        s: &quot;loc:@dnn/hidden1/bias&quot;\\n      }\\n    }\\n  }\\n}\\nnode {\\n  name: &quot;dnn/hidden1/MatMul&quot;\\n  op: &quot;MatMul&quot;\\n  input: &quot;X&quot;\\n  input: &quot;dnn/hidden1/kernel/read&quot;\\n  attr {\\n    key: &quot;T&quot;\\n    value {\\n      type: DT_FLOAT\\n    }\\n  }\\n  attr {\\n    key: &quot;transpose_a&quot;\\n    value {\\n      b: false\\n    }\\n  }\\n  attr {\\n    key: &quot;transpose_b&quot;\\n    value {\\n      b: false\\n    }\\n  }\\n}\\nnode {\\n  name: &quot;dnn/hidden1/add&quot;\\n  op: &quot;Add&quot;\\n  input: &quot;dnn/hidden1/MatMul&quot;\\n  input: &quot;dnn/hidden1/bias/read&quot;\\n  attr {\\n    key: &quot;T&quot;\\n    value {\\n      type: DT_FLOAT\\n    }\\n  }\\n}\\nnode {\\n  name: &quot;dnn/hidden1/Relu&quot;\\n  op: &quot;Relu&quot;\\n  input: &quot;dnn/hidden1/add&quot;\\n  attr {\\n    key: &quot;T&quot;\\n    value {\\n      type: DT_FLOAT\\n    }\\n  }\\n}\\nnode {\\n  name: &quot;dnn/hidden2/truncated_normal/shape&quot;\\n  op: &quot;Const&quot;\\n  attr {\\n    key: &quot;dtype&quot;\\n    value {\\n      type: DT_INT32\\n    }\\n  }\\n  attr {\\n    key: &quot;value&quot;\\n    value {\\n      tensor {\\n        dtype: DT_INT32\\n        tensor_shape {\\n          dim {\\n            size: 2\\n          }\\n        }\\n        tensor_content: &quot;,\\\\001\\\\000\\\\000d\\\\000\\\\000\\\\000&quot;\\n      }\\n    }\\n  }\\n}\\nnode {\\n  name: &quot;dnn/hidden2/truncated_normal/mean&quot;\\n  op: &quot;Const&quot;\\n  attr {\\n    key: &quot;dtype&quot;\\n    value {\\n      type: DT_FLOAT\\n    }\\n  }\\n  attr {\\n    key: &quot;value&quot;\\n    value {\\n      tensor {\\n        dtype: DT_FLOAT\\n        tensor_shape {\\n        }\\n        float_val: 0.0\\n      }\\n    }\\n  }\\n}\\nnode {\\n  name: &quot;dnn/hidden2/truncated_normal/stddev&quot;\\n  op: &quot;Const&quot;\\n  attr {\\n    key: &quot;dtype&quot;\\n    value {\\n      type: DT_FLOAT\\n    }\\n  }\\n  attr {\\n    key: &quot;value&quot;\\n    value {\\n      tensor {\\n        dtype: DT_FLOAT\\n        tensor_shape {\\n        }\\n        float_val: 0.1154700517654419\\n      }\\n    }\\n  }\\n}\\nnode {\\n  name: &quot;dnn/hidden2/truncated_normal/TruncatedNormal&quot;\\n  op: &quot;TruncatedNormal&quot;\\n  input: &quot;dnn/hidden2/truncated_normal/shape&quot;\\n  attr {\\n    key: &quot;T&quot;\\n    value {\\n      type: DT_INT32\\n    }\\n  }\\n  attr {\\n    key: &quot;dtype&quot;\\n    value {\\n      type: DT_FLOAT\\n    }\\n  }\\n  attr {\\n    key: &quot;seed&quot;\\n    value {\\n      i: 42\\n    }\\n  }\\n  attr {\\n    key: &quot;seed2&quot;\\n    value {\\n      i: 21\\n    }\\n  }\\n}\\nnode {\\n  name: &quot;dnn/hidden2/truncated_normal/mul&quot;\\n  op: &quot;Mul&quot;\\n  input: &quot;dnn/hidden2/truncated_normal/TruncatedNormal&quot;\\n  input: &quot;dnn/hidden2/truncated_normal/stddev&quot;\\n  attr {\\n    key: &quot;T&quot;\\n    value {\\n      type: DT_FLOAT\\n    }\\n  }\\n}\\nnode {\\n  name: &quot;dnn/hidden2/truncated_normal&quot;\\n  op: &quot;Add&quot;\\n  input: &quot;dnn/hidden2/truncated_normal/mul&quot;\\n  input: &quot;dnn/hidden2/truncated_normal/mean&quot;\\n  attr {\\n    key: &quot;T&quot;\\n    value {\\n      type: DT_FLOAT\\n    }\\n  }\\n}\\nnode {\\n  name: &quot;dnn/hidden2/kernel&quot;\\n  op: &quot;VariableV2&quot;\\n  attr {\\n    key: &quot;container&quot;\\n    value {\\n      s: &quot;&quot;\\n    }\\n  }\\n  attr {\\n    key: &quot;dtype&quot;\\n    value {\\n      type: DT_FLOAT\\n    }\\n  }\\n  attr {\\n    key: &quot;shape&quot;\\n    value {\\n      shape {\\n        dim {\\n          size: 300\\n        }\\n        dim {\\n          size: 100\\n        }\\n      }\\n    }\\n  }\\n  attr {\\n    key: &quot;shared_name&quot;\\n    value {\\n      s: &quot;&quot;\\n    }\\n  }\\n}\\nnode {\\n  name: &quot;dnn/hidden2/kernel/Assign&quot;\\n  op: &quot;Assign&quot;\\n  input: &quot;dnn/hidden2/kernel&quot;\\n  input: &quot;dnn/hidden2/truncated_normal&quot;\\n  attr {\\n    key: &quot;T&quot;\\n    value {\\n      type: DT_FLOAT\\n    }\\n  }\\n  attr {\\n    key: &quot;_class&quot;\\n    value {\\n      list {\\n        s: &quot;loc:@dnn/hidden2/kernel&quot;\\n      }\\n    }\\n  }\\n  attr {\\n    key: &quot;use_locking&quot;\\n    value {\\n      b: true\\n    }\\n  }\\n  attr {\\n    key: &quot;validate_shape&quot;\\n    value {\\n      b: true\\n    }\\n  }\\n}\\nnode {\\n  name: &quot;dnn/hidden2/kernel/read&quot;\\n  op: &quot;Identity&quot;\\n  input: &quot;dnn/hidden2/kernel&quot;\\n  attr {\\n    key: &quot;T&quot;\\n    value {\\n      type: DT_FLOAT\\n    }\\n  }\\n  attr {\\n    key: &quot;_class&quot;\\n    value {\\n      list {\\n        s: &quot;loc:@dnn/hidden2/kernel&quot;\\n      }\\n    }\\n  }\\n}\\nnode {\\n  name: &quot;dnn/hidden2/zeros&quot;\\n  op: &quot;Const&quot;\\n  attr {\\n    key: &quot;dtype&quot;\\n    value {\\n      type: DT_FLOAT\\n    }\\n  }\\n  attr {\\n    key: &quot;value&quot;\\n    value {\\n      tensor {\\n        dtype: DT_FLOAT\\n        tensor_shape {\\n          dim {\\n            size: 100\\n          }\\n        }\\n        float_val: 0.0\\n      }\\n    }\\n  }\\n}\\nnode {\\n  name: &quot;dnn/hidden2/bias&quot;\\n  op: &quot;VariableV2&quot;\\n  attr {\\n    key: &quot;container&quot;\\n    value {\\n      s: &quot;&quot;\\n    }\\n  }\\n  attr {\\n    key: &quot;dtype&quot;\\n    value {\\n      type: DT_FLOAT\\n    }\\n  }\\n  attr {\\n    key: &quot;shape&quot;\\n    value {\\n      shape {\\n        dim {\\n          size: 100\\n        }\\n      }\\n    }\\n  }\\n  attr {\\n    key: &quot;shared_name&quot;\\n    value {\\n      s: &quot;&quot;\\n    }\\n  }\\n}\\nnode {\\n  name: &quot;dnn/hidden2/bias/Assign&quot;\\n  op: &quot;Assign&quot;\\n  input: &quot;dnn/hidden2/bias&quot;\\n  input: &quot;dnn/hidden2/zeros&quot;\\n  attr {\\n    key: &quot;T&quot;\\n    value {\\n      type: DT_FLOAT\\n    }\\n  }\\n  attr {\\n    key: &quot;_class&quot;\\n    value {\\n      list {\\n        s: &quot;loc:@dnn/hidden2/bias&quot;\\n      }\\n    }\\n  }\\n  attr {\\n    key: &quot;use_locking&quot;\\n    value {\\n      b: true\\n    }\\n  }\\n  attr {\\n    key: &quot;validate_shape&quot;\\n    value {\\n      b: true\\n    }\\n  }\\n}\\nnode {\\n  name: &quot;dnn/hidden2/bias/read&quot;\\n  op: &quot;Identity&quot;\\n  input: &quot;dnn/hidden2/bias&quot;\\n  attr {\\n    key: &quot;T&quot;\\n    value {\\n      type: DT_FLOAT\\n    }\\n  }\\n  attr {\\n    key: &quot;_class&quot;\\n    value {\\n      list {\\n        s: &quot;loc:@dnn/hidden2/bias&quot;\\n      }\\n    }\\n  }\\n}\\nnode {\\n  name: &quot;dnn/hidden2/MatMul&quot;\\n  op: &quot;MatMul&quot;\\n  input: &quot;dnn/hidden1/Relu&quot;\\n  input: &quot;dnn/hidden2/kernel/read&quot;\\n  attr {\\n    key: &quot;T&quot;\\n    value {\\n      type: DT_FLOAT\\n    }\\n  }\\n  attr {\\n    key: &quot;transpose_a&quot;\\n    value {\\n      b: false\\n    }\\n  }\\n  attr {\\n    key: &quot;transpose_b&quot;\\n    value {\\n      b: false\\n    }\\n  }\\n}\\nnode {\\n  name: &quot;dnn/hidden2/add&quot;\\n  op: &quot;Add&quot;\\n  input: &quot;dnn/hidden2/MatMul&quot;\\n  input: &quot;dnn/hidden2/bias/read&quot;\\n  attr {\\n    key: &quot;T&quot;\\n    value {\\n      type: DT_FLOAT\\n    }\\n  }\\n}\\nnode {\\n  name: &quot;dnn/hidden2/Relu&quot;\\n  op: &quot;Relu&quot;\\n  input: &quot;dnn/hidden2/add&quot;\\n  attr {\\n    key: &quot;T&quot;\\n    value {\\n      type: DT_FLOAT\\n    }\\n  }\\n}\\nnode {\\n  name: &quot;dnn/outputs/truncated_normal/shape&quot;\\n  op: &quot;Const&quot;\\n  attr {\\n    key: &quot;dtype&quot;\\n    value {\\n      type: DT_INT32\\n    }\\n  }\\n  attr {\\n    key: &quot;value&quot;\\n    value {\\n      tensor {\\n        dtype: DT_INT32\\n        tensor_shape {\\n          dim {\\n            size: 2\\n          }\\n        }\\n        tensor_content: &quot;d\\\\000\\\\000\\\\000\\\\n\\\\000\\\\000\\\\000&quot;\\n      }\\n    }\\n  }\\n}\\nnode {\\n  name: &quot;dnn/outputs/truncated_normal/mean&quot;\\n  op: &quot;Const&quot;\\n  attr {\\n    key: &quot;dtype&quot;\\n    value {\\n      type: DT_FLOAT\\n    }\\n  }\\n  attr {\\n    key: &quot;value&quot;\\n    value {\\n      tensor {\\n        dtype: DT_FLOAT\\n        tensor_shape {\\n        }\\n        float_val: 0.0\\n      }\\n    }\\n  }\\n}\\nnode {\\n  name: &quot;dnn/outputs/truncated_normal/stddev&quot;\\n  op: &quot;Const&quot;\\n  attr {\\n    key: &quot;dtype&quot;\\n    value {\\n      type: DT_FLOAT\\n    }\\n  }\\n  attr {\\n    key: &quot;value&quot;\\n    value {\\n      tensor {\\n        dtype: DT_FLOAT\\n        tensor_shape {\\n        }\\n        float_val: 0.20000000298023224\\n      }\\n    }\\n  }\\n}\\nnode {\\n  name: &quot;dnn/outputs/truncated_normal/TruncatedNormal&quot;\\n  op: &quot;TruncatedNormal&quot;\\n  input: &quot;dnn/outputs/truncated_normal/shape&quot;\\n  attr {\\n    key: &quot;T&quot;\\n    value {\\n      type: DT_INT32\\n    }\\n  }\\n  attr {\\n    key: &quot;dtype&quot;\\n    value {\\n      type: DT_FLOAT\\n    }\\n  }\\n  attr {\\n    key: &quot;seed&quot;\\n    value {\\n      i: 42\\n    }\\n  }\\n  attr {\\n    key: &quot;seed2&quot;\\n    value {\\n      i: 37\\n    }\\n  }\\n}\\nnode {\\n  name: &quot;dnn/outputs/truncated_normal/mul&quot;\\n  op: &quot;Mul&quot;\\n  input: &quot;dnn/outputs/truncated_normal/TruncatedNormal&quot;\\n  input: &quot;dnn/outputs/truncated_normal/stddev&quot;\\n  attr {\\n    key: &quot;T&quot;\\n    value {\\n      type: DT_FLOAT\\n    }\\n  }\\n}\\nnode {\\n  name: &quot;dnn/outputs/truncated_normal&quot;\\n  op: &quot;Add&quot;\\n  input: &quot;dnn/outputs/truncated_normal/mul&quot;\\n  input: &quot;dnn/outputs/truncated_normal/mean&quot;\\n  attr {\\n    key: &quot;T&quot;\\n    value {\\n      type: DT_FLOAT\\n    }\\n  }\\n}\\nnode {\\n  name: &quot;dnn/outputs/kernel&quot;\\n  op: &quot;VariableV2&quot;\\n  attr {\\n    key: &quot;container&quot;\\n    value {\\n      s: &quot;&quot;\\n    }\\n  }\\n  attr {\\n    key: &quot;dtype&quot;\\n    value {\\n      type: DT_FLOAT\\n    }\\n  }\\n  attr {\\n    key: &quot;shape&quot;\\n    value {\\n      shape {\\n        dim {\\n          size: 100\\n        }\\n        dim {\\n          size: 10\\n        }\\n      }\\n    }\\n  }\\n  attr {\\n    key: &quot;shared_name&quot;\\n    value {\\n      s: &quot;&quot;\\n    }\\n  }\\n}\\nnode {\\n  name: &quot;dnn/outputs/kernel/Assign&quot;\\n  op: &quot;Assign&quot;\\n  input: &quot;dnn/outputs/kernel&quot;\\n  input: &quot;dnn/outputs/truncated_normal&quot;\\n  attr {\\n    key: &quot;T&quot;\\n    value {\\n      type: DT_FLOAT\\n    }\\n  }\\n  attr {\\n    key: &quot;_class&quot;\\n    value {\\n      list {\\n        s: &quot;loc:@dnn/outputs/kernel&quot;\\n      }\\n    }\\n  }\\n  attr {\\n    key: &quot;use_locking&quot;\\n    value {\\n      b: true\\n    }\\n  }\\n  attr {\\n    key: &quot;validate_shape&quot;\\n    value {\\n      b: true\\n    }\\n  }\\n}\\nnode {\\n  name: &quot;dnn/outputs/kernel/read&quot;\\n  op: &quot;Identity&quot;\\n  input: &quot;dnn/outputs/kernel&quot;\\n  attr {\\n    key: &quot;T&quot;\\n    value {\\n      type: DT_FLOAT\\n    }\\n  }\\n  attr {\\n    key: &quot;_class&quot;\\n    value {\\n      list {\\n        s: &quot;loc:@dnn/outputs/kernel&quot;\\n      }\\n    }\\n  }\\n}\\nnode {\\n  name: &quot;dnn/outputs/zeros&quot;\\n  op: &quot;Const&quot;\\n  attr {\\n    key: &quot;dtype&quot;\\n    value {\\n      type: DT_FLOAT\\n    }\\n  }\\n  attr {\\n    key: &quot;value&quot;\\n    value {\\n      tensor {\\n        dtype: DT_FLOAT\\n        tensor_shape {\\n          dim {\\n            size: 10\\n          }\\n        }\\n        float_val: 0.0\\n      }\\n    }\\n  }\\n}\\nnode {\\n  name: &quot;dnn/outputs/bias&quot;\\n  op: &quot;VariableV2&quot;\\n  attr {\\n    key: &quot;container&quot;\\n    value {\\n      s: &quot;&quot;\\n    }\\n  }\\n  attr {\\n    key: &quot;dtype&quot;\\n    value {\\n      type: DT_FLOAT\\n    }\\n  }\\n  attr {\\n    key: &quot;shape&quot;\\n    value {\\n      shape {\\n        dim {\\n          size: 10\\n        }\\n      }\\n    }\\n  }\\n  attr {\\n    key: &quot;shared_name&quot;\\n    value {\\n      s: &quot;&quot;\\n    }\\n  }\\n}\\nnode {\\n  name: &quot;dnn/outputs/bias/Assign&quot;\\n  op: &quot;Assign&quot;\\n  input: &quot;dnn/outputs/bias&quot;\\n  input: &quot;dnn/outputs/zeros&quot;\\n  attr {\\n    key: &quot;T&quot;\\n    value {\\n      type: DT_FLOAT\\n    }\\n  }\\n  attr {\\n    key: &quot;_class&quot;\\n    value {\\n      list {\\n        s: &quot;loc:@dnn/outputs/bias&quot;\\n      }\\n    }\\n  }\\n  attr {\\n    key: &quot;use_locking&quot;\\n    value {\\n      b: true\\n    }\\n  }\\n  attr {\\n    key: &quot;validate_shape&quot;\\n    value {\\n      b: true\\n    }\\n  }\\n}\\nnode {\\n  name: &quot;dnn/outputs/bias/read&quot;\\n  op: &quot;Identity&quot;\\n  input: &quot;dnn/outputs/bias&quot;\\n  attr {\\n    key: &quot;T&quot;\\n    value {\\n      type: DT_FLOAT\\n    }\\n  }\\n  attr {\\n    key: &quot;_class&quot;\\n    value {\\n      list {\\n        s: &quot;loc:@dnn/outputs/bias&quot;\\n      }\\n    }\\n  }\\n}\\nnode {\\n  name: &quot;dnn/outputs/MatMul&quot;\\n  op: &quot;MatMul&quot;\\n  input: &quot;dnn/hidden2/Relu&quot;\\n  input: &quot;dnn/outputs/kernel/read&quot;\\n  attr {\\n    key: &quot;T&quot;\\n    value {\\n      type: DT_FLOAT\\n    }\\n  }\\n  attr {\\n    key: &quot;transpose_a&quot;\\n    value {\\n      b: false\\n    }\\n  }\\n  attr {\\n    key: &quot;transpose_b&quot;\\n    value {\\n      b: false\\n    }\\n  }\\n}\\nnode {\\n  name: &quot;dnn/outputs/add&quot;\\n  op: &quot;Add&quot;\\n  input: &quot;dnn/outputs/MatMul&quot;\\n  input: &quot;dnn/outputs/bias/read&quot;\\n  attr {\\n    key: &quot;T&quot;\\n    value {\\n      type: DT_FLOAT\\n    }\\n  }\\n}\\nnode {\\n  name: &quot;loss_1/SparseSoftmaxCrossEntropyWithLogits/Shape&quot;\\n  op: &quot;Shape&quot;\\n  input: &quot;y&quot;\\n  attr {\\n    key: &quot;T&quot;\\n    value {\\n      type: DT_INT64\\n    }\\n  }\\n  attr {\\n    key: &quot;out_type&quot;\\n    value {\\n      type: DT_INT32\\n    }\\n  }\\n}\\nnode {\\n  name: &quot;loss_1/SparseSoftmaxCrossEntropyWithLogits/SparseSoftmaxCrossEntropyWithLogits&quot;\\n  op: &quot;SparseSoftmaxCrossEntropyWithLogits&quot;\\n  input: &quot;dnn/outputs/add&quot;\\n  input: &quot;y&quot;\\n  attr {\\n    key: &quot;T&quot;\\n    value {\\n      type: DT_FLOAT\\n    }\\n  }\\n  attr {\\n    key: &quot;Tlabels&quot;\\n    value {\\n      type: DT_INT64\\n    }\\n  }\\n}\\nnode {\\n  name: &quot;loss_1/Const&quot;\\n  op: &quot;Const&quot;\\n  attr {\\n    key: &quot;dtype&quot;\\n    value {\\n      type: DT_INT32\\n    }\\n  }\\n  attr {\\n    key: &quot;value&quot;\\n    value {\\n      tensor {\\n        dtype: DT_INT32\\n        tensor_shape {\\n          dim {\\n            size: 1\\n          }\\n        }\\n        int_val: 0\\n      }\\n    }\\n  }\\n}\\nnode {\\n  name: &quot;loss_1/loss&quot;\\n  op: &quot;Mean&quot;\\n  input: &quot;loss_1/SparseSoftmaxCrossEntropyWithLogits/SparseSoftmaxCrossEntropyWithLogits&quot;\\n  input: &quot;loss_1/Const&quot;\\n  attr {\\n    key: &quot;T&quot;\\n    value {\\n      type: DT_FLOAT\\n    }\\n  }\\n  attr {\\n    key: &quot;Tidx&quot;\\n    value {\\n      type: DT_INT32\\n    }\\n  }\\n  attr {\\n    key: &quot;keep_dims&quot;\\n    value {\\n      b: false\\n    }\\n  }\\n}\\nnode {\\n  name: &quot;train/gradients/Shape&quot;\\n  op: &quot;Const&quot;\\n  attr {\\n    key: &quot;dtype&quot;\\n    value {\\n      type: DT_INT32\\n    }\\n  }\\n  attr {\\n    key: &quot;value&quot;\\n    value {\\n      tensor {\\n        dtype: DT_INT32\\n        tensor_shape {\\n          dim {\\n          }\\n        }\\n      }\\n    }\\n  }\\n}\\nnode {\\n  name: &quot;train/gradients/Const&quot;\\n  op: &quot;Const&quot;\\n  attr {\\n    key: &quot;dtype&quot;\\n    value {\\n      type: DT_FLOAT\\n    }\\n  }\\n  attr {\\n    key: &quot;value&quot;\\n    value {\\n      tensor {\\n        dtype: DT_FLOAT\\n        tensor_shape {\\n        }\\n        float_val: 1.0\\n      }\\n    }\\n  }\\n}\\nnode {\\n  name: &quot;train/gradients/Fill&quot;\\n  op: &quot;Fill&quot;\\n  input: &quot;train/gradients/Shape&quot;\\n  input: &quot;train/gradients/Const&quot;\\n  attr {\\n    key: &quot;T&quot;\\n    value {\\n      type: DT_FLOAT\\n    }\\n  }\\n}\\nnode {\\n  name: &quot;train/gradients/loss_1/loss_grad/Reshape/shape&quot;\\n  op: &quot;Const&quot;\\n  attr {\\n    key: &quot;dtype&quot;\\n    value {\\n      type: DT_INT32\\n    }\\n  }\\n  attr {\\n    key: &quot;value&quot;\\n    value {\\n      tensor {\\n        dtype: DT_INT32\\n        tensor_shape {\\n          dim {\\n            size: 1\\n          }\\n        }\\n        int_val: 1\\n      }\\n    }\\n  }\\n}\\nnode {\\n  name: &quot;train/gradients/loss_1/loss_grad/Reshape&quot;\\n  op: &quot;Reshape&quot;\\n  input: &quot;train/gradients/Fill&quot;\\n  input: &quot;train/gradients/loss_1/loss_grad/Reshape/shape&quot;\\n  attr {\\n    key: &quot;T&quot;\\n    value {\\n      type: DT_FLOAT\\n    }\\n  }\\n  attr {\\n    key: &quot;Tshape&quot;\\n    value {\\n      type: DT_INT32\\n    }\\n  }\\n}\\nnode {\\n  name: &quot;train/gradients/loss_1/loss_grad/Shape&quot;\\n  op: &quot;Shape&quot;\\n  input: &quot;loss_1/SparseSoftmaxCrossEntropyWithLogits/SparseSoftmaxCrossEntropyWithLogits&quot;\\n  attr {\\n    key: &quot;T&quot;\\n    value {\\n      type: DT_FLOAT\\n    }\\n  }\\n  attr {\\n    key: &quot;out_type&quot;\\n    value {\\n      type: DT_INT32\\n    }\\n  }\\n}\\nnode {\\n  name: &quot;train/gradients/loss_1/loss_grad/Tile&quot;\\n  op: &quot;Tile&quot;\\n  input: &quot;train/gradients/loss_1/loss_grad/Reshape&quot;\\n  input: &quot;train/gradients/loss_1/loss_grad/Shape&quot;\\n  attr {\\n    key: &quot;T&quot;\\n    value {\\n      type: DT_FLOAT\\n    }\\n  }\\n  attr {\\n    key: &quot;Tmultiples&quot;\\n    value {\\n      type: DT_INT32\\n    }\\n  }\\n}\\nnode {\\n  name: &quot;train/gradients/loss_1/loss_grad/Shape_1&quot;\\n  op: &quot;Shape&quot;\\n  input: &quot;loss_1/SparseSoftmaxCrossEntropyWithLogits/SparseSoftmaxCrossEntropyWithLogits&quot;\\n  attr {\\n    key: &quot;T&quot;\\n    value {\\n      type: DT_FLOAT\\n    }\\n  }\\n  attr {\\n    key: &quot;out_type&quot;\\n    value {\\n      type: DT_INT32\\n    }\\n  }\\n}\\nnode {\\n  name: &quot;train/gradients/loss_1/loss_grad/Shape_2&quot;\\n  op: &quot;Const&quot;\\n  attr {\\n    key: &quot;dtype&quot;\\n    value {\\n      type: DT_INT32\\n    }\\n  }\\n  attr {\\n    key: &quot;value&quot;\\n    value {\\n      tensor {\\n        dtype: DT_INT32\\n        tensor_shape {\\n          dim {\\n          }\\n        }\\n      }\\n    }\\n  }\\n}\\nnode {\\n  name: &quot;train/gradients/loss_1/loss_grad/Const&quot;\\n  op: &quot;Const&quot;\\n  attr {\\n    key: &quot;dtype&quot;\\n    value {\\n      type: DT_INT32\\n    }\\n  }\\n  attr {\\n    key: &quot;value&quot;\\n    value {\\n      tensor {\\n        dtype: DT_INT32\\n        tensor_shape {\\n          dim {\\n            size: 1\\n          }\\n        }\\n        int_val: 0\\n      }\\n    }\\n  }\\n}\\nnode {\\n  name: &quot;train/gradients/loss_1/loss_grad/Prod&quot;\\n  op: &quot;Prod&quot;\\n  input: &quot;train/gradients/loss_1/loss_grad/Shape_1&quot;\\n  input: &quot;train/gradients/loss_1/loss_grad/Const&quot;\\n  attr {\\n    key: &quot;T&quot;\\n    value {\\n      type: DT_INT32\\n    }\\n  }\\n  attr {\\n    key: &quot;Tidx&quot;\\n    value {\\n      type: DT_INT32\\n    }\\n  }\\n  attr {\\n    key: &quot;keep_dims&quot;\\n    value {\\n      b: false\\n    }\\n  }\\n}\\nnode {\\n  name: &quot;train/gradients/loss_1/loss_grad/Const_1&quot;\\n  op: &quot;Const&quot;\\n  attr {\\n    key: &quot;dtype&quot;\\n    value {\\n      type: DT_INT32\\n    }\\n  }\\n  attr {\\n    key: &quot;value&quot;\\n    value {\\n      tensor {\\n        dtype: DT_INT32\\n        tensor_shape {\\n          dim {\\n            size: 1\\n          }\\n        }\\n        int_val: 0\\n      }\\n    }\\n  }\\n}\\nnode {\\n  name: &quot;train/gradients/loss_1/loss_grad/Prod_1&quot;\\n  op: &quot;Prod&quot;\\n  input: &quot;train/gradients/loss_1/loss_grad/Shape_2&quot;\\n  input: &quot;train/gradients/loss_1/loss_grad/Const_1&quot;\\n  attr {\\n    key: &quot;T&quot;\\n    value {\\n      type: DT_INT32\\n    }\\n  }\\n  attr {\\n    key: &quot;Tidx&quot;\\n    value {\\n      type: DT_INT32\\n    }\\n  }\\n  attr {\\n    key: &quot;keep_dims&quot;\\n    value {\\n      b: false\\n    }\\n  }\\n}\\nnode {\\n  name: &quot;train/gradients/loss_1/loss_grad/Maximum/y&quot;\\n  op: &quot;Const&quot;\\n  attr {\\n    key: &quot;dtype&quot;\\n    value {\\n      type: DT_INT32\\n    }\\n  }\\n  attr {\\n    key: &quot;value&quot;\\n    value {\\n      tensor {\\n        dtype: DT_INT32\\n        tensor_shape {\\n        }\\n        int_val: 1\\n      }\\n    }\\n  }\\n}\\nnode {\\n  name: &quot;train/gradients/loss_1/loss_grad/Maximum&quot;\\n  op: &quot;Maximum&quot;\\n  input: &quot;train/gradients/loss_1/loss_grad/Prod_1&quot;\\n  input: &quot;train/gradients/loss_1/loss_grad/Maximum/y&quot;\\n  attr {\\n    key: &quot;T&quot;\\n    value {\\n      type: DT_INT32\\n    }\\n  }\\n}\\nnode {\\n  name: &quot;train/gradients/loss_1/loss_grad/floordiv&quot;\\n  op: &quot;FloorDiv&quot;\\n  input: &quot;train/gradients/loss_1/loss_grad/Prod&quot;\\n  input: &quot;train/gradients/loss_1/loss_grad/Maximum&quot;\\n  attr {\\n    key: &quot;T&quot;\\n    value {\\n      type: DT_INT32\\n    }\\n  }\\n}\\nnode {\\n  name: &quot;train/gradients/loss_1/loss_grad/Cast&quot;\\n  op: &quot;Cast&quot;\\n  input: &quot;train/gradients/loss_1/loss_grad/floordiv&quot;\\n  attr {\\n    key: &quot;DstT&quot;\\n    value {\\n      type: DT_FLOAT\\n    }\\n  }\\n  attr {\\n    key: &quot;SrcT&quot;\\n    value {\\n      type: DT_INT32\\n    }\\n  }\\n}\\nnode {\\n  name: &quot;train/gradients/loss_1/loss_grad/truediv&quot;\\n  op: &quot;RealDiv&quot;\\n  input: &quot;train/gradients/loss_1/loss_grad/Tile&quot;\\n  input: &quot;train/gradients/loss_1/loss_grad/Cast&quot;\\n  attr {\\n    key: &quot;T&quot;\\n    value {\\n      type: DT_FLOAT\\n    }\\n  }\\n}\\nnode {\\n  name: &quot;train/gradients/zeros_like&quot;\\n  op: &quot;ZerosLike&quot;\\n  input: &quot;loss_1/SparseSoftmaxCrossEntropyWithLogits/SparseSoftmaxCrossEntropyWithLogits:1&quot;\\n  attr {\\n    key: &quot;T&quot;\\n    value {\\n      type: DT_FLOAT\\n    }\\n  }\\n}\\nnode {\\n  name: &quot;train/gradients/loss_1/SparseSoftmaxCrossEntropyWithLogits/SparseSoftmaxCrossEntropyWithLogits_grad/PreventGradient&quot;\\n  op: &quot;PreventGradient&quot;\\n  input: &quot;loss_1/SparseSoftmaxCrossEntropyWithLogits/SparseSoftmaxCrossEntropyWithLogits:1&quot;\\n  attr {\\n    key: &quot;T&quot;\\n    value {\\n      type: DT_FLOAT\\n    }\\n  }\\n  attr {\\n    key: &quot;message&quot;\\n    value {\\n      s: &quot;Currently there is no way to take the second derivative of sparse_softmax_cross_entropy_with_logits due to the fused implementation\\\\\\'s interaction with tf.gradients()&quot;\\n    }\\n  }\\n}\\nnode {\\n  name: &quot;train/gradients/loss_1/SparseSoftmaxCrossEntropyWithLogits/SparseSoftmaxCrossEntropyWithLogits_grad/ExpandDims/dim&quot;\\n  op: &quot;Const&quot;\\n  attr {\\n    key: &quot;dtype&quot;\\n    value {\\n      type: DT_INT32\\n    }\\n  }\\n  attr {\\n    key: &quot;value&quot;\\n    value {\\n      tensor {\\n        dtype: DT_INT32\\n        tensor_shape {\\n        }\\n        int_val: -1\\n      }\\n    }\\n  }\\n}\\nnode {\\n  name: &quot;train/gradients/loss_1/SparseSoftmaxCrossEntropyWithLogits/SparseSoftmaxCrossEntropyWithLogits_grad/ExpandDims&quot;\\n  op: &quot;ExpandDims&quot;\\n  input: &quot;train/gradients/loss_1/loss_grad/truediv&quot;\\n  input: &quot;train/gradients/loss_1/SparseSoftmaxCrossEntropyWithLogits/SparseSoftmaxCrossEntropyWithLogits_grad/ExpandDims/dim&quot;\\n  attr {\\n    key: &quot;T&quot;\\n    value {\\n      type: DT_FLOAT\\n    }\\n  }\\n  attr {\\n    key: &quot;Tdim&quot;\\n    value {\\n      type: DT_INT32\\n    }\\n  }\\n}\\nnode {\\n  name: &quot;train/gradients/loss_1/SparseSoftmaxCrossEntropyWithLogits/SparseSoftmaxCrossEntropyWithLogits_grad/mul&quot;\\n  op: &quot;Mul&quot;\\n  input: &quot;train/gradients/loss_1/SparseSoftmaxCrossEntropyWithLogits/SparseSoftmaxCrossEntropyWithLogits_grad/ExpandDims&quot;\\n  input: &quot;train/gradients/loss_1/SparseSoftmaxCrossEntropyWithLogits/SparseSoftmaxCrossEntropyWithLogits_grad/PreventGradient&quot;\\n  attr {\\n    key: &quot;T&quot;\\n    value {\\n      type: DT_FLOAT\\n    }\\n  }\\n}\\nnode {\\n  name: &quot;train/gradients/dnn/outputs/add_grad/Shape&quot;\\n  op: &quot;Shape&quot;\\n  input: &quot;dnn/outputs/MatMul&quot;\\n  attr {\\n    key: &quot;T&quot;\\n    value {\\n      type: DT_FLOAT\\n    }\\n  }\\n  attr {\\n    key: &quot;out_type&quot;\\n    value {\\n      type: DT_INT32\\n    }\\n  }\\n}\\nnode {\\n  name: &quot;train/gradients/dnn/outputs/add_grad/Shape_1&quot;\\n  op: &quot;Const&quot;\\n  attr {\\n    key: &quot;dtype&quot;\\n    value {\\n      type: DT_INT32\\n    }\\n  }\\n  attr {\\n    key: &quot;value&quot;\\n    value {\\n      tensor {\\n        dtype: DT_INT32\\n        tensor_shape {\\n          dim {\\n            size: 1\\n          }\\n        }\\n        int_val: 10\\n      }\\n    }\\n  }\\n}\\nnode {\\n  name: &quot;train/gradients/dnn/outputs/add_grad/BroadcastGradientArgs&quot;\\n  op: &quot;BroadcastGradientArgs&quot;\\n  input: &quot;train/gradients/dnn/outputs/add_grad/Shape&quot;\\n  input: &quot;train/gradients/dnn/outputs/add_grad/Shape_1&quot;\\n  attr {\\n    key: &quot;T&quot;\\n    value {\\n      type: DT_INT32\\n    }\\n  }\\n}\\nnode {\\n  name: &quot;train/gradients/dnn/outputs/add_grad/Sum&quot;\\n  op: &quot;Sum&quot;\\n  input: &quot;train/gradients/loss_1/SparseSoftmaxCrossEntropyWithLogits/SparseSoftmaxCrossEntropyWithLogits_grad/mul&quot;\\n  input: &quot;train/gradients/dnn/outputs/add_grad/BroadcastGradientArgs&quot;\\n  attr {\\n    key: &quot;T&quot;\\n    value {\\n      type: DT_FLOAT\\n    }\\n  }\\n  attr {\\n    key: &quot;Tidx&quot;\\n    value {\\n      type: DT_INT32\\n    }\\n  }\\n  attr {\\n    key: &quot;keep_dims&quot;\\n    value {\\n      b: false\\n    }\\n  }\\n}\\nnode {\\n  name: &quot;train/gradients/dnn/outputs/add_grad/Reshape&quot;\\n  op: &quot;Reshape&quot;\\n  input: &quot;train/gradients/dnn/outputs/add_grad/Sum&quot;\\n  input: &quot;train/gradients/dnn/outputs/add_grad/Shape&quot;\\n  attr {\\n    key: &quot;T&quot;\\n    value {\\n      type: DT_FLOAT\\n    }\\n  }\\n  attr {\\n    key: &quot;Tshape&quot;\\n    value {\\n      type: DT_INT32\\n    }\\n  }\\n}\\nnode {\\n  name: &quot;train/gradients/dnn/outputs/add_grad/Sum_1&quot;\\n  op: &quot;Sum&quot;\\n  input: &quot;train/gradients/loss_1/SparseSoftmaxCrossEntropyWithLogits/SparseSoftmaxCrossEntropyWithLogits_grad/mul&quot;\\n  input: &quot;train/gradients/dnn/outputs/add_grad/BroadcastGradientArgs:1&quot;\\n  attr {\\n    key: &quot;T&quot;\\n    value {\\n      type: DT_FLOAT\\n    }\\n  }\\n  attr {\\n    key: &quot;Tidx&quot;\\n    value {\\n      type: DT_INT32\\n    }\\n  }\\n  attr {\\n    key: &quot;keep_dims&quot;\\n    value {\\n      b: false\\n    }\\n  }\\n}\\nnode {\\n  name: &quot;train/gradients/dnn/outputs/add_grad/Reshape_1&quot;\\n  op: &quot;Reshape&quot;\\n  input: &quot;train/gradients/dnn/outputs/add_grad/Sum_1&quot;\\n  input: &quot;train/gradients/dnn/outputs/add_grad/Shape_1&quot;\\n  attr {\\n    key: &quot;T&quot;\\n    value {\\n      type: DT_FLOAT\\n    }\\n  }\\n  attr {\\n    key: &quot;Tshape&quot;\\n    value {\\n      type: DT_INT32\\n    }\\n  }\\n}\\nnode {\\n  name: &quot;train/gradients/dnn/outputs/add_grad/tuple/group_deps&quot;\\n  op: &quot;NoOp&quot;\\n  input: &quot;^train/gradients/dnn/outputs/add_grad/Reshape&quot;\\n  input: &quot;^train/gradients/dnn/outputs/add_grad/Reshape_1&quot;\\n}\\nnode {\\n  name: &quot;train/gradients/dnn/outputs/add_grad/tuple/control_dependency&quot;\\n  op: &quot;Identity&quot;\\n  input: &quot;train/gradients/dnn/outputs/add_grad/Reshape&quot;\\n  input: &quot;^train/gradients/dnn/outputs/add_grad/tuple/group_deps&quot;\\n  attr {\\n    key: &quot;T&quot;\\n    value {\\n      type: DT_FLOAT\\n    }\\n  }\\n  attr {\\n    key: &quot;_class&quot;\\n    value {\\n      list {\\n        s: &quot;loc:@train/gradients/dnn/outputs/add_grad/Reshape&quot;\\n      }\\n    }\\n  }\\n}\\nnode {\\n  name: &quot;train/gradients/dnn/outputs/add_grad/tuple/control_dependency_1&quot;\\n  op: &quot;Identity&quot;\\n  input: &quot;train/gradients/dnn/outputs/add_grad/Reshape_1&quot;\\n  input: &quot;^train/gradients/dnn/outputs/add_grad/tuple/group_deps&quot;\\n  attr {\\n    key: &quot;T&quot;\\n    value {\\n      type: DT_FLOAT\\n    }\\n  }\\n  attr {\\n    key: &quot;_class&quot;\\n    value {\\n      list {\\n        s: &quot;loc:@train/gradients/dnn/outputs/add_grad/Reshape_1&quot;\\n      }\\n    }\\n  }\\n}\\nnode {\\n  name: &quot;train/gradients/dnn/outputs/MatMul_grad/MatMul&quot;\\n  op: &quot;MatMul&quot;\\n  input: &quot;train/gradients/dnn/outputs/add_grad/tuple/control_dependency&quot;\\n  input: &quot;dnn/outputs/kernel/read&quot;\\n  attr {\\n    key: &quot;T&quot;\\n    value {\\n      type: DT_FLOAT\\n    }\\n  }\\n  attr {\\n    key: &quot;transpose_a&quot;\\n    value {\\n      b: false\\n    }\\n  }\\n  attr {\\n    key: &quot;transpose_b&quot;\\n    value {\\n      b: true\\n    }\\n  }\\n}\\nnode {\\n  name: &quot;train/gradients/dnn/outputs/MatMul_grad/MatMul_1&quot;\\n  op: &quot;MatMul&quot;\\n  input: &quot;dnn/hidden2/Relu&quot;\\n  input: &quot;train/gradients/dnn/outputs/add_grad/tuple/control_dependency&quot;\\n  attr {\\n    key: &quot;T&quot;\\n    value {\\n      type: DT_FLOAT\\n    }\\n  }\\n  attr {\\n    key: &quot;transpose_a&quot;\\n    value {\\n      b: true\\n    }\\n  }\\n  attr {\\n    key: &quot;transpose_b&quot;\\n    value {\\n      b: false\\n    }\\n  }\\n}\\nnode {\\n  name: &quot;train/gradients/dnn/outputs/MatMul_grad/tuple/group_deps&quot;\\n  op: &quot;NoOp&quot;\\n  input: &quot;^train/gradients/dnn/outputs/MatMul_grad/MatMul&quot;\\n  input: &quot;^train/gradients/dnn/outputs/MatMul_grad/MatMul_1&quot;\\n}\\nnode {\\n  name: &quot;train/gradients/dnn/outputs/MatMul_grad/tuple/control_dependency&quot;\\n  op: &quot;Identity&quot;\\n  input: &quot;train/gradients/dnn/outputs/MatMul_grad/MatMul&quot;\\n  input: &quot;^train/gradients/dnn/outputs/MatMul_grad/tuple/group_deps&quot;\\n  attr {\\n    key: &quot;T&quot;\\n    value {\\n      type: DT_FLOAT\\n    }\\n  }\\n  attr {\\n    key: &quot;_class&quot;\\n    value {\\n      list {\\n        s: &quot;loc:@train/gradients/dnn/outputs/MatMul_grad/MatMul&quot;\\n      }\\n    }\\n  }\\n}\\nnode {\\n  name: &quot;train/gradients/dnn/outputs/MatMul_grad/tuple/control_dependency_1&quot;\\n  op: &quot;Identity&quot;\\n  input: &quot;train/gradients/dnn/outputs/MatMul_grad/MatMul_1&quot;\\n  input: &quot;^train/gradients/dnn/outputs/MatMul_grad/tuple/group_deps&quot;\\n  attr {\\n    key: &quot;T&quot;\\n    value {\\n      type: DT_FLOAT\\n    }\\n  }\\n  attr {\\n    key: &quot;_class&quot;\\n    value {\\n      list {\\n        s: &quot;loc:@train/gradients/dnn/outputs/MatMul_grad/MatMul_1&quot;\\n      }\\n    }\\n  }\\n}\\nnode {\\n  name: &quot;train/gradients/dnn/hidden2/Relu_grad/ReluGrad&quot;\\n  op: &quot;ReluGrad&quot;\\n  input: &quot;train/gradients/dnn/outputs/MatMul_grad/tuple/control_dependency&quot;\\n  input: &quot;dnn/hidden2/Relu&quot;\\n  attr {\\n    key: &quot;T&quot;\\n    value {\\n      type: DT_FLOAT\\n    }\\n  }\\n}\\nnode {\\n  name: &quot;train/gradients/dnn/hidden2/add_grad/Shape&quot;\\n  op: &quot;Shape&quot;\\n  input: &quot;dnn/hidden2/MatMul&quot;\\n  attr {\\n    key: &quot;T&quot;\\n    value {\\n      type: DT_FLOAT\\n    }\\n  }\\n  attr {\\n    key: &quot;out_type&quot;\\n    value {\\n      type: DT_INT32\\n    }\\n  }\\n}\\nnode {\\n  name: &quot;train/gradients/dnn/hidden2/add_grad/Shape_1&quot;\\n  op: &quot;Const&quot;\\n  attr {\\n    key: &quot;dtype&quot;\\n    value {\\n      type: DT_INT32\\n    }\\n  }\\n  attr {\\n    key: &quot;value&quot;\\n    value {\\n      tensor {\\n        dtype: DT_INT32\\n        tensor_shape {\\n          dim {\\n            size: 1\\n          }\\n        }\\n        int_val: 100\\n      }\\n    }\\n  }\\n}\\nnode {\\n  name: &quot;train/gradients/dnn/hidden2/add_grad/BroadcastGradientArgs&quot;\\n  op: &quot;BroadcastGradientArgs&quot;\\n  input: &quot;train/gradients/dnn/hidden2/add_grad/Shape&quot;\\n  input: &quot;train/gradients/dnn/hidden2/add_grad/Shape_1&quot;\\n  attr {\\n    key: &quot;T&quot;\\n    value {\\n      type: DT_INT32\\n    }\\n  }\\n}\\nnode {\\n  name: &quot;train/gradients/dnn/hidden2/add_grad/Sum&quot;\\n  op: &quot;Sum&quot;\\n  input: &quot;train/gradients/dnn/hidden2/Relu_grad/ReluGrad&quot;\\n  input: &quot;train/gradients/dnn/hidden2/add_grad/BroadcastGradientArgs&quot;\\n  attr {\\n    key: &quot;T&quot;\\n    value {\\n      type: DT_FLOAT\\n    }\\n  }\\n  attr {\\n    key: &quot;Tidx&quot;\\n    value {\\n      type: DT_INT32\\n    }\\n  }\\n  attr {\\n    key: &quot;keep_dims&quot;\\n    value {\\n      b: false\\n    }\\n  }\\n}\\nnode {\\n  name: &quot;train/gradients/dnn/hidden2/add_grad/Reshape&quot;\\n  op: &quot;Reshape&quot;\\n  input: &quot;train/gradients/dnn/hidden2/add_grad/Sum&quot;\\n  input: &quot;train/gradients/dnn/hidden2/add_grad/Shape&quot;\\n  attr {\\n    key: &quot;T&quot;\\n    value {\\n      type: DT_FLOAT\\n    }\\n  }\\n  attr {\\n    key: &quot;Tshape&quot;\\n    value {\\n      type: DT_INT32\\n    }\\n  }\\n}\\nnode {\\n  name: &quot;train/gradients/dnn/hidden2/add_grad/Sum_1&quot;\\n  op: &quot;Sum&quot;\\n  input: &quot;train/gradients/dnn/hidden2/Relu_grad/ReluGrad&quot;\\n  input: &quot;train/gradients/dnn/hidden2/add_grad/BroadcastGradientArgs:1&quot;\\n  attr {\\n    key: &quot;T&quot;\\n    value {\\n      type: DT_FLOAT\\n    }\\n  }\\n  attr {\\n    key: &quot;Tidx&quot;\\n    value {\\n      type: DT_INT32\\n    }\\n  }\\n  attr {\\n    key: &quot;keep_dims&quot;\\n    value {\\n      b: false\\n    }\\n  }\\n}\\nnode {\\n  name: &quot;train/gradients/dnn/hidden2/add_grad/Reshape_1&quot;\\n  op: &quot;Reshape&quot;\\n  input: &quot;train/gradients/dnn/hidden2/add_grad/Sum_1&quot;\\n  input: &quot;train/gradients/dnn/hidden2/add_grad/Shape_1&quot;\\n  attr {\\n    key: &quot;T&quot;\\n    value {\\n      type: DT_FLOAT\\n    }\\n  }\\n  attr {\\n    key: &quot;Tshape&quot;\\n    value {\\n      type: DT_INT32\\n    }\\n  }\\n}\\nnode {\\n  name: &quot;train/gradients/dnn/hidden2/add_grad/tuple/group_deps&quot;\\n  op: &quot;NoOp&quot;\\n  input: &quot;^train/gradients/dnn/hidden2/add_grad/Reshape&quot;\\n  input: &quot;^train/gradients/dnn/hidden2/add_grad/Reshape_1&quot;\\n}\\nnode {\\n  name: &quot;train/gradients/dnn/hidden2/add_grad/tuple/control_dependency&quot;\\n  op: &quot;Identity&quot;\\n  input: &quot;train/gradients/dnn/hidden2/add_grad/Reshape&quot;\\n  input: &quot;^train/gradients/dnn/hidden2/add_grad/tuple/group_deps&quot;\\n  attr {\\n    key: &quot;T&quot;\\n    value {\\n      type: DT_FLOAT\\n    }\\n  }\\n  attr {\\n    key: &quot;_class&quot;\\n    value {\\n      list {\\n        s: &quot;loc:@train/gradients/dnn/hidden2/add_grad/Reshape&quot;\\n      }\\n    }\\n  }\\n}\\nnode {\\n  name: &quot;train/gradients/dnn/hidden2/add_grad/tuple/control_dependency_1&quot;\\n  op: &quot;Identity&quot;\\n  input: &quot;train/gradients/dnn/hidden2/add_grad/Reshape_1&quot;\\n  input: &quot;^train/gradients/dnn/hidden2/add_grad/tuple/group_deps&quot;\\n  attr {\\n    key: &quot;T&quot;\\n    value {\\n      type: DT_FLOAT\\n    }\\n  }\\n  attr {\\n    key: &quot;_class&quot;\\n    value {\\n      list {\\n        s: &quot;loc:@train/gradients/dnn/hidden2/add_grad/Reshape_1&quot;\\n      }\\n    }\\n  }\\n}\\nnode {\\n  name: &quot;train/gradients/dnn/hidden2/MatMul_grad/MatMul&quot;\\n  op: &quot;MatMul&quot;\\n  input: &quot;train/gradients/dnn/hidden2/add_grad/tuple/control_dependency&quot;\\n  input: &quot;dnn/hidden2/kernel/read&quot;\\n  attr {\\n    key: &quot;T&quot;\\n    value {\\n      type: DT_FLOAT\\n    }\\n  }\\n  attr {\\n    key: &quot;transpose_a&quot;\\n    value {\\n      b: false\\n    }\\n  }\\n  attr {\\n    key: &quot;transpose_b&quot;\\n    value {\\n      b: true\\n    }\\n  }\\n}\\nnode {\\n  name: &quot;train/gradients/dnn/hidden2/MatMul_grad/MatMul_1&quot;\\n  op: &quot;MatMul&quot;\\n  input: &quot;dnn/hidden1/Relu&quot;\\n  input: &quot;train/gradients/dnn/hidden2/add_grad/tuple/control_dependency&quot;\\n  attr {\\n    key: &quot;T&quot;\\n    value {\\n      type: DT_FLOAT\\n    }\\n  }\\n  attr {\\n    key: &quot;transpose_a&quot;\\n    value {\\n      b: true\\n    }\\n  }\\n  attr {\\n    key: &quot;transpose_b&quot;\\n    value {\\n      b: false\\n    }\\n  }\\n}\\nnode {\\n  name: &quot;train/gradients/dnn/hidden2/MatMul_grad/tuple/group_deps&quot;\\n  op: &quot;NoOp&quot;\\n  input: &quot;^train/gradients/dnn/hidden2/MatMul_grad/MatMul&quot;\\n  input: &quot;^train/gradients/dnn/hidden2/MatMul_grad/MatMul_1&quot;\\n}\\nnode {\\n  name: &quot;train/gradients/dnn/hidden2/MatMul_grad/tuple/control_dependency&quot;\\n  op: &quot;Identity&quot;\\n  input: &quot;train/gradients/dnn/hidden2/MatMul_grad/MatMul&quot;\\n  input: &quot;^train/gradients/dnn/hidden2/MatMul_grad/tuple/group_deps&quot;\\n  attr {\\n    key: &quot;T&quot;\\n    value {\\n      type: DT_FLOAT\\n    }\\n  }\\n  attr {\\n    key: &quot;_class&quot;\\n    value {\\n      list {\\n        s: &quot;loc:@train/gradients/dnn/hidden2/MatMul_grad/MatMul&quot;\\n      }\\n    }\\n  }\\n}\\nnode {\\n  name: &quot;train/gradients/dnn/hidden2/MatMul_grad/tuple/control_dependency_1&quot;\\n  op: &quot;Identity&quot;\\n  input: &quot;train/gradients/dnn/hidden2/MatMul_grad/MatMul_1&quot;\\n  input: &quot;^train/gradients/dnn/hidden2/MatMul_grad/tuple/group_deps&quot;\\n  attr {\\n    key: &quot;T&quot;\\n    value {\\n      type: DT_FLOAT\\n    }\\n  }\\n  attr {\\n    key: &quot;_class&quot;\\n    value {\\n      list {\\n        s: &quot;loc:@train/gradients/dnn/hidden2/MatMul_grad/MatMul_1&quot;\\n      }\\n    }\\n  }\\n}\\nnode {\\n  name: &quot;train/gradients/dnn/hidden1/Relu_grad/ReluGrad&quot;\\n  op: &quot;ReluGrad&quot;\\n  input: &quot;train/gradients/dnn/hidden2/MatMul_grad/tuple/control_dependency&quot;\\n  input: &quot;dnn/hidden1/Relu&quot;\\n  attr {\\n    key: &quot;T&quot;\\n    value {\\n      type: DT_FLOAT\\n    }\\n  }\\n}\\nnode {\\n  name: &quot;train/gradients/dnn/hidden1/add_grad/Shape&quot;\\n  op: &quot;Shape&quot;\\n  input: &quot;dnn/hidden1/MatMul&quot;\\n  attr {\\n    key: &quot;T&quot;\\n    value {\\n      type: DT_FLOAT\\n    }\\n  }\\n  attr {\\n    key: &quot;out_type&quot;\\n    value {\\n      type: DT_INT32\\n    }\\n  }\\n}\\nnode {\\n  name: &quot;train/gradients/dnn/hidden1/add_grad/Shape_1&quot;\\n  op: &quot;Const&quot;\\n  attr {\\n    key: &quot;dtype&quot;\\n    value {\\n      type: DT_INT32\\n    }\\n  }\\n  attr {\\n    key: &quot;value&quot;\\n    value {\\n      tensor {\\n        dtype: DT_INT32\\n        tensor_shape {\\n          dim {\\n            size: 1\\n          }\\n        }\\n        int_val: 300\\n      }\\n    }\\n  }\\n}\\nnode {\\n  name: &quot;train/gradients/dnn/hidden1/add_grad/BroadcastGradientArgs&quot;\\n  op: &quot;BroadcastGradientArgs&quot;\\n  input: &quot;train/gradients/dnn/hidden1/add_grad/Shape&quot;\\n  input: &quot;train/gradients/dnn/hidden1/add_grad/Shape_1&quot;\\n  attr {\\n    key: &quot;T&quot;\\n    value {\\n      type: DT_INT32\\n    }\\n  }\\n}\\nnode {\\n  name: &quot;train/gradients/dnn/hidden1/add_grad/Sum&quot;\\n  op: &quot;Sum&quot;\\n  input: &quot;train/gradients/dnn/hidden1/Relu_grad/ReluGrad&quot;\\n  input: &quot;train/gradients/dnn/hidden1/add_grad/BroadcastGradientArgs&quot;\\n  attr {\\n    key: &quot;T&quot;\\n    value {\\n      type: DT_FLOAT\\n    }\\n  }\\n  attr {\\n    key: &quot;Tidx&quot;\\n    value {\\n      type: DT_INT32\\n    }\\n  }\\n  attr {\\n    key: &quot;keep_dims&quot;\\n    value {\\n      b: false\\n    }\\n  }\\n}\\nnode {\\n  name: &quot;train/gradients/dnn/hidden1/add_grad/Reshape&quot;\\n  op: &quot;Reshape&quot;\\n  input: &quot;train/gradients/dnn/hidden1/add_grad/Sum&quot;\\n  input: &quot;train/gradients/dnn/hidden1/add_grad/Shape&quot;\\n  attr {\\n    key: &quot;T&quot;\\n    value {\\n      type: DT_FLOAT\\n    }\\n  }\\n  attr {\\n    key: &quot;Tshape&quot;\\n    value {\\n      type: DT_INT32\\n    }\\n  }\\n}\\nnode {\\n  name: &quot;train/gradients/dnn/hidden1/add_grad/Sum_1&quot;\\n  op: &quot;Sum&quot;\\n  input: &quot;train/gradients/dnn/hidden1/Relu_grad/ReluGrad&quot;\\n  input: &quot;train/gradients/dnn/hidden1/add_grad/BroadcastGradientArgs:1&quot;\\n  attr {\\n    key: &quot;T&quot;\\n    value {\\n      type: DT_FLOAT\\n    }\\n  }\\n  attr {\\n    key: &quot;Tidx&quot;\\n    value {\\n      type: DT_INT32\\n    }\\n  }\\n  attr {\\n    key: &quot;keep_dims&quot;\\n    value {\\n      b: false\\n    }\\n  }\\n}\\nnode {\\n  name: &quot;train/gradients/dnn/hidden1/add_grad/Reshape_1&quot;\\n  op: &quot;Reshape&quot;\\n  input: &quot;train/gradients/dnn/hidden1/add_grad/Sum_1&quot;\\n  input: &quot;train/gradients/dnn/hidden1/add_grad/Shape_1&quot;\\n  attr {\\n    key: &quot;T&quot;\\n    value {\\n      type: DT_FLOAT\\n    }\\n  }\\n  attr {\\n    key: &quot;Tshape&quot;\\n    value {\\n      type: DT_INT32\\n    }\\n  }\\n}\\nnode {\\n  name: &quot;train/gradients/dnn/hidden1/add_grad/tuple/group_deps&quot;\\n  op: &quot;NoOp&quot;\\n  input: &quot;^train/gradients/dnn/hidden1/add_grad/Reshape&quot;\\n  input: &quot;^train/gradients/dnn/hidden1/add_grad/Reshape_1&quot;\\n}\\nnode {\\n  name: &quot;train/gradients/dnn/hidden1/add_grad/tuple/control_dependency&quot;\\n  op: &quot;Identity&quot;\\n  input: &quot;train/gradients/dnn/hidden1/add_grad/Reshape&quot;\\n  input: &quot;^train/gradients/dnn/hidden1/add_grad/tuple/group_deps&quot;\\n  attr {\\n    key: &quot;T&quot;\\n    value {\\n      type: DT_FLOAT\\n    }\\n  }\\n  attr {\\n    key: &quot;_class&quot;\\n    value {\\n      list {\\n        s: &quot;loc:@train/gradients/dnn/hidden1/add_grad/Reshape&quot;\\n      }\\n    }\\n  }\\n}\\nnode {\\n  name: &quot;train/gradients/dnn/hidden1/add_grad/tuple/control_dependency_1&quot;\\n  op: &quot;Identity&quot;\\n  input: &quot;train/gradients/dnn/hidden1/add_grad/Reshape_1&quot;\\n  input: &quot;^train/gradients/dnn/hidden1/add_grad/tuple/group_deps&quot;\\n  attr {\\n    key: &quot;T&quot;\\n    value {\\n      type: DT_FLOAT\\n    }\\n  }\\n  attr {\\n    key: &quot;_class&quot;\\n    value {\\n      list {\\n        s: &quot;loc:@train/gradients/dnn/hidden1/add_grad/Reshape_1&quot;\\n      }\\n    }\\n  }\\n}\\nnode {\\n  name: &quot;train/gradients/dnn/hidden1/MatMul_grad/MatMul&quot;\\n  op: &quot;MatMul&quot;\\n  input: &quot;train/gradients/dnn/hidden1/add_grad/tuple/control_dependency&quot;\\n  input: &quot;dnn/hidden1/kernel/read&quot;\\n  attr {\\n    key: &quot;T&quot;\\n    value {\\n      type: DT_FLOAT\\n    }\\n  }\\n  attr {\\n    key: &quot;transpose_a&quot;\\n    value {\\n      b: false\\n    }\\n  }\\n  attr {\\n    key: &quot;transpose_b&quot;\\n    value {\\n      b: true\\n    }\\n  }\\n}\\nnode {\\n  name: &quot;train/gradients/dnn/hidden1/MatMul_grad/MatMul_1&quot;\\n  op: &quot;MatMul&quot;\\n  input: &quot;X&quot;\\n  input: &quot;train/gradients/dnn/hidden1/add_grad/tuple/control_dependency&quot;\\n  attr {\\n    key: &quot;T&quot;\\n    value {\\n      type: DT_FLOAT\\n    }\\n  }\\n  attr {\\n    key: &quot;transpose_a&quot;\\n    value {\\n      b: true\\n    }\\n  }\\n  attr {\\n    key: &quot;transpose_b&quot;\\n    value {\\n      b: false\\n    }\\n  }\\n}\\nnode {\\n  name: &quot;train/gradients/dnn/hidden1/MatMul_grad/tuple/group_deps&quot;\\n  op: &quot;NoOp&quot;\\n  input: &quot;^train/gradients/dnn/hidden1/MatMul_grad/MatMul&quot;\\n  input: &quot;^train/gradients/dnn/hidden1/MatMul_grad/MatMul_1&quot;\\n}\\nnode {\\n  name: &quot;train/gradients/dnn/hidden1/MatMul_grad/tuple/control_dependency&quot;\\n  op: &quot;Identity&quot;\\n  input: &quot;train/gradients/dnn/hidden1/MatMul_grad/MatMul&quot;\\n  input: &quot;^train/gradients/dnn/hidden1/MatMul_grad/tuple/group_deps&quot;\\n  attr {\\n    key: &quot;T&quot;\\n    value {\\n      type: DT_FLOAT\\n    }\\n  }\\n  attr {\\n    key: &quot;_class&quot;\\n    value {\\n      list {\\n        s: &quot;loc:@train/gradients/dnn/hidden1/MatMul_grad/MatMul&quot;\\n      }\\n    }\\n  }\\n}\\nnode {\\n  name: &quot;train/gradients/dnn/hidden1/MatMul_grad/tuple/control_dependency_1&quot;\\n  op: &quot;Identity&quot;\\n  input: &quot;train/gradients/dnn/hidden1/MatMul_grad/MatMul_1&quot;\\n  input: &quot;^train/gradients/dnn/hidden1/MatMul_grad/tuple/group_deps&quot;\\n  attr {\\n    key: &quot;T&quot;\\n    value {\\n      type: DT_FLOAT\\n    }\\n  }\\n  attr {\\n    key: &quot;_class&quot;\\n    value {\\n      list {\\n        s: &quot;loc:@train/gradients/dnn/hidden1/MatMul_grad/MatMul_1&quot;\\n      }\\n    }\\n  }\\n}\\nnode {\\n  name: &quot;train/GradientDescent/learning_rate&quot;\\n  op: &quot;Const&quot;\\n  attr {\\n    key: &quot;dtype&quot;\\n    value {\\n      type: DT_FLOAT\\n    }\\n  }\\n  attr {\\n    key: &quot;value&quot;\\n    value {\\n      tensor {\\n        dtype: DT_FLOAT\\n        tensor_shape {\\n        }\\n        float_val: 0.009999999776482582\\n      }\\n    }\\n  }\\n}\\nnode {\\n  name: &quot;train/GradientDescent/update_dnn/hidden1/kernel/ApplyGradientDescent&quot;\\n  op: &quot;ApplyGradientDescent&quot;\\n  input: &quot;dnn/hidden1/kernel&quot;\\n  input: &quot;train/GradientDescent/learning_rate&quot;\\n  input: &quot;train/gradients/dnn/hidden1/MatMul_grad/tuple/control_dependency_1&quot;\\n  attr {\\n    key: &quot;T&quot;\\n    value {\\n      type: DT_FLOAT\\n    }\\n  }\\n  attr {\\n    key: &quot;_class&quot;\\n    value {\\n      list {\\n        s: &quot;loc:@dnn/hidden1/kernel&quot;\\n      }\\n    }\\n  }\\n  attr {\\n    key: &quot;use_locking&quot;\\n    value {\\n      b: false\\n    }\\n  }\\n}\\nnode {\\n  name: &quot;train/GradientDescent/update_dnn/hidden1/bias/ApplyGradientDescent&quot;\\n  op: &quot;ApplyGradientDescent&quot;\\n  input: &quot;dnn/hidden1/bias&quot;\\n  input: &quot;train/GradientDescent/learning_rate&quot;\\n  input: &quot;train/gradients/dnn/hidden1/add_grad/tuple/control_dependency_1&quot;\\n  attr {\\n    key: &quot;T&quot;\\n    value {\\n      type: DT_FLOAT\\n    }\\n  }\\n  attr {\\n    key: &quot;_class&quot;\\n    value {\\n      list {\\n        s: &quot;loc:@dnn/hidden1/bias&quot;\\n      }\\n    }\\n  }\\n  attr {\\n    key: &quot;use_locking&quot;\\n    value {\\n      b: false\\n    }\\n  }\\n}\\nnode {\\n  name: &quot;train/GradientDescent/update_dnn/hidden2/kernel/ApplyGradientDescent&quot;\\n  op: &quot;ApplyGradientDescent&quot;\\n  input: &quot;dnn/hidden2/kernel&quot;\\n  input: &quot;train/GradientDescent/learning_rate&quot;\\n  input: &quot;train/gradients/dnn/hidden2/MatMul_grad/tuple/control_dependency_1&quot;\\n  attr {\\n    key: &quot;T&quot;\\n    value {\\n      type: DT_FLOAT\\n    }\\n  }\\n  attr {\\n    key: &quot;_class&quot;\\n    value {\\n      list {\\n        s: &quot;loc:@dnn/hidden2/kernel&quot;\\n      }\\n    }\\n  }\\n  attr {\\n    key: &quot;use_locking&quot;\\n    value {\\n      b: false\\n    }\\n  }\\n}\\nnode {\\n  name: &quot;train/GradientDescent/update_dnn/hidden2/bias/ApplyGradientDescent&quot;\\n  op: &quot;ApplyGradientDescent&quot;\\n  input: &quot;dnn/hidden2/bias&quot;\\n  input: &quot;train/GradientDescent/learning_rate&quot;\\n  input: &quot;train/gradients/dnn/hidden2/add_grad/tuple/control_dependency_1&quot;\\n  attr {\\n    key: &quot;T&quot;\\n    value {\\n      type: DT_FLOAT\\n    }\\n  }\\n  attr {\\n    key: &quot;_class&quot;\\n    value {\\n      list {\\n        s: &quot;loc:@dnn/hidden2/bias&quot;\\n      }\\n    }\\n  }\\n  attr {\\n    key: &quot;use_locking&quot;\\n    value {\\n      b: false\\n    }\\n  }\\n}\\nnode {\\n  name: &quot;train/GradientDescent/update_dnn/outputs/kernel/ApplyGradientDescent&quot;\\n  op: &quot;ApplyGradientDescent&quot;\\n  input: &quot;dnn/outputs/kernel&quot;\\n  input: &quot;train/GradientDescent/learning_rate&quot;\\n  input: &quot;train/gradients/dnn/outputs/MatMul_grad/tuple/control_dependency_1&quot;\\n  attr {\\n    key: &quot;T&quot;\\n    value {\\n      type: DT_FLOAT\\n    }\\n  }\\n  attr {\\n    key: &quot;_class&quot;\\n    value {\\n      list {\\n        s: &quot;loc:@dnn/outputs/kernel&quot;\\n      }\\n    }\\n  }\\n  attr {\\n    key: &quot;use_locking&quot;\\n    value {\\n      b: false\\n    }\\n  }\\n}\\nnode {\\n  name: &quot;train/GradientDescent/update_dnn/outputs/bias/ApplyGradientDescent&quot;\\n  op: &quot;ApplyGradientDescent&quot;\\n  input: &quot;dnn/outputs/bias&quot;\\n  input: &quot;train/GradientDescent/learning_rate&quot;\\n  input: &quot;train/gradients/dnn/outputs/add_grad/tuple/control_dependency_1&quot;\\n  attr {\\n    key: &quot;T&quot;\\n    value {\\n      type: DT_FLOAT\\n    }\\n  }\\n  attr {\\n    key: &quot;_class&quot;\\n    value {\\n      list {\\n        s: &quot;loc:@dnn/outputs/bias&quot;\\n      }\\n    }\\n  }\\n  attr {\\n    key: &quot;use_locking&quot;\\n    value {\\n      b: false\\n    }\\n  }\\n}\\nnode {\\n  name: &quot;train/GradientDescent&quot;\\n  op: &quot;NoOp&quot;\\n  input: &quot;^train/GradientDescent/update_dnn/hidden1/kernel/ApplyGradientDescent&quot;\\n  input: &quot;^train/GradientDescent/update_dnn/hidden1/bias/ApplyGradientDescent&quot;\\n  input: &quot;^train/GradientDescent/update_dnn/hidden2/kernel/ApplyGradientDescent&quot;\\n  input: &quot;^train/GradientDescent/update_dnn/hidden2/bias/ApplyGradientDescent&quot;\\n  input: &quot;^train/GradientDescent/update_dnn/outputs/kernel/ApplyGradientDescent&quot;\\n  input: &quot;^train/GradientDescent/update_dnn/outputs/bias/ApplyGradientDescent&quot;\\n}\\nnode {\\n  name: &quot;eval/InTopK&quot;\\n  op: &quot;InTopK&quot;\\n  input: &quot;dnn/outputs/add&quot;\\n  input: &quot;y&quot;\\n  attr {\\n    key: &quot;T&quot;\\n    value {\\n      type: DT_INT64\\n    }\\n  }\\n  attr {\\n    key: &quot;k&quot;\\n    value {\\n      i: 1\\n    }\\n  }\\n}\\nnode {\\n  name: &quot;eval/Cast&quot;\\n  op: &quot;Cast&quot;\\n  input: &quot;eval/InTopK&quot;\\n  attr {\\n    key: &quot;DstT&quot;\\n    value {\\n      type: DT_FLOAT\\n    }\\n  }\\n  attr {\\n    key: &quot;SrcT&quot;\\n    value {\\n      type: DT_BOOL\\n    }\\n  }\\n}\\nnode {\\n  name: &quot;eval/Const&quot;\\n  op: &quot;Const&quot;\\n  attr {\\n    key: &quot;dtype&quot;\\n    value {\\n      type: DT_INT32\\n    }\\n  }\\n  attr {\\n    key: &quot;value&quot;\\n    value {\\n      tensor {\\n        dtype: DT_INT32\\n        tensor_shape {\\n          dim {\\n            size: 1\\n          }\\n        }\\n        int_val: 0\\n      }\\n    }\\n  }\\n}\\nnode {\\n  name: &quot;eval/Mean&quot;\\n  op: &quot;Mean&quot;\\n  input: &quot;eval/Cast&quot;\\n  input: &quot;eval/Const&quot;\\n  attr {\\n    key: &quot;T&quot;\\n    value {\\n      type: DT_FLOAT\\n    }\\n  }\\n  attr {\\n    key: &quot;Tidx&quot;\\n    value {\\n      type: DT_INT32\\n    }\\n  }\\n  attr {\\n    key: &quot;keep_dims&quot;\\n    value {\\n      b: false\\n    }\\n  }\\n}\\nnode {\\n  name: &quot;init&quot;\\n  op: &quot;NoOp&quot;\\n  input: &quot;^dnn/hidden1/kernel/Assign&quot;\\n  input: &quot;^dnn/hidden1/bias/Assign&quot;\\n  input: &quot;^dnn/hidden2/kernel/Assign&quot;\\n  input: &quot;^dnn/hidden2/bias/Assign&quot;\\n  input: &quot;^dnn/outputs/kernel/Assign&quot;\\n  input: &quot;^dnn/outputs/bias/Assign&quot;\\n}\\nnode {\\n  name: &quot;save/Const&quot;\\n  op: &quot;Const&quot;\\n  attr {\\n    key: &quot;dtype&quot;\\n    value {\\n      type: DT_STRING\\n    }\\n  }\\n  attr {\\n    key: &quot;value&quot;\\n    value {\\n      tensor {\\n        dtype: DT_STRING\\n        tensor_shape {\\n        }\\n        string_val: &quot;model&quot;\\n      }\\n    }\\n  }\\n}\\nnode {\\n  name: &quot;save/SaveV2/tensor_names&quot;\\n  op: &quot;Const&quot;\\n  attr {\\n    key: &quot;dtype&quot;\\n    value {\\n      type: DT_STRING\\n    }\\n  }\\n  attr {\\n    key: &quot;value&quot;\\n    value {\\n      tensor {\\n        dtype: DT_STRING\\n        tensor_shape {\\n          dim {\\n            size: 6\\n          }\\n        }\\n        string_val: &quot;dnn/hidden1/bias&quot;\\n        string_val: &quot;dnn/hidden1/kernel&quot;\\n        string_val: &quot;dnn/hidden2/bias&quot;\\n        string_val: &quot;dnn/hidden2/kernel&quot;\\n        string_val: &quot;dnn/outputs/bias&quot;\\n        string_val: &quot;dnn/outputs/kernel&quot;\\n      }\\n    }\\n  }\\n}\\nnode {\\n  name: &quot;save/SaveV2/shape_and_slices&quot;\\n  op: &quot;Const&quot;\\n  attr {\\n    key: &quot;dtype&quot;\\n    value {\\n      type: DT_STRING\\n    }\\n  }\\n  attr {\\n    key: &quot;value&quot;\\n    value {\\n      tensor {\\n        dtype: DT_STRING\\n        tensor_shape {\\n          dim {\\n            size: 6\\n          }\\n        }\\n        string_val: &quot;&quot;\\n        string_val: &quot;&quot;\\n        string_val: &quot;&quot;\\n        string_val: &quot;&quot;\\n        string_val: &quot;&quot;\\n        string_val: &quot;&quot;\\n      }\\n    }\\n  }\\n}\\nnode {\\n  name: &quot;save/SaveV2&quot;\\n  op: &quot;SaveV2&quot;\\n  input: &quot;save/Const&quot;\\n  input: &quot;save/SaveV2/tensor_names&quot;\\n  input: &quot;save/SaveV2/shape_and_slices&quot;\\n  input: &quot;dnn/hidden1/bias&quot;\\n  input: &quot;dnn/hidden1/kernel&quot;\\n  input: &quot;dnn/hidden2/bias&quot;\\n  input: &quot;dnn/hidden2/kernel&quot;\\n  input: &quot;dnn/outputs/bias&quot;\\n  input: &quot;dnn/outputs/kernel&quot;\\n  attr {\\n    key: &quot;dtypes&quot;\\n    value {\\n      list {\\n        type: DT_FLOAT\\n        type: DT_FLOAT\\n        type: DT_FLOAT\\n        type: DT_FLOAT\\n        type: DT_FLOAT\\n        type: DT_FLOAT\\n      }\\n    }\\n  }\\n}\\nnode {\\n  name: &quot;save/control_dependency&quot;\\n  op: &quot;Identity&quot;\\n  input: &quot;save/Const&quot;\\n  input: &quot;^save/SaveV2&quot;\\n  attr {\\n    key: &quot;T&quot;\\n    value {\\n      type: DT_STRING\\n    }\\n  }\\n  attr {\\n    key: &quot;_class&quot;\\n    value {\\n      list {\\n        s: &quot;loc:@save/Const&quot;\\n      }\\n    }\\n  }\\n}\\nnode {\\n  name: &quot;save/RestoreV2/tensor_names&quot;\\n  op: &quot;Const&quot;\\n  attr {\\n    key: &quot;dtype&quot;\\n    value {\\n      type: DT_STRING\\n    }\\n  }\\n  attr {\\n    key: &quot;value&quot;\\n    value {\\n      tensor {\\n        dtype: DT_STRING\\n        tensor_shape {\\n          dim {\\n            size: 1\\n          }\\n        }\\n        string_val: &quot;dnn/hidden1/bias&quot;\\n      }\\n    }\\n  }\\n}\\nnode {\\n  name: &quot;save/RestoreV2/shape_and_slices&quot;\\n  op: &quot;Const&quot;\\n  attr {\\n    key: &quot;dtype&quot;\\n    value {\\n      type: DT_STRING\\n    }\\n  }\\n  attr {\\n    key: &quot;value&quot;\\n    value {\\n      tensor {\\n        dtype: DT_STRING\\n        tensor_shape {\\n          dim {\\n            size: 1\\n          }\\n        }\\n        string_val: &quot;&quot;\\n      }\\n    }\\n  }\\n}\\nnode {\\n  name: &quot;save/RestoreV2&quot;\\n  op: &quot;RestoreV2&quot;\\n  input: &quot;save/Const&quot;\\n  input: &quot;save/RestoreV2/tensor_names&quot;\\n  input: &quot;save/RestoreV2/shape_and_slices&quot;\\n  attr {\\n    key: &quot;dtypes&quot;\\n    value {\\n      list {\\n        type: DT_FLOAT\\n      }\\n    }\\n  }\\n}\\nnode {\\n  name: &quot;save/Assign&quot;\\n  op: &quot;Assign&quot;\\n  input: &quot;dnn/hidden1/bias&quot;\\n  input: &quot;save/RestoreV2&quot;\\n  attr {\\n    key: &quot;T&quot;\\n    value {\\n      type: DT_FLOAT\\n    }\\n  }\\n  attr {\\n    key: &quot;_class&quot;\\n    value {\\n      list {\\n        s: &quot;loc:@dnn/hidden1/bias&quot;\\n      }\\n    }\\n  }\\n  attr {\\n    key: &quot;use_locking&quot;\\n    value {\\n      b: true\\n    }\\n  }\\n  attr {\\n    key: &quot;validate_shape&quot;\\n    value {\\n      b: true\\n    }\\n  }\\n}\\nnode {\\n  name: &quot;save/RestoreV2_1/tensor_names&quot;\\n  op: &quot;Const&quot;\\n  attr {\\n    key: &quot;dtype&quot;\\n    value {\\n      type: DT_STRING\\n    }\\n  }\\n  attr {\\n    key: &quot;value&quot;\\n    value {\\n      tensor {\\n        dtype: DT_STRING\\n        tensor_shape {\\n          dim {\\n            size: 1\\n          }\\n        }\\n        string_val: &quot;dnn/hidden1/kernel&quot;\\n      }\\n    }\\n  }\\n}\\nnode {\\n  name: &quot;save/RestoreV2_1/shape_and_slices&quot;\\n  op: &quot;Const&quot;\\n  attr {\\n    key: &quot;dtype&quot;\\n    value {\\n      type: DT_STRING\\n    }\\n  }\\n  attr {\\n    key: &quot;value&quot;\\n    value {\\n      tensor {\\n        dtype: DT_STRING\\n        tensor_shape {\\n          dim {\\n            size: 1\\n          }\\n        }\\n        string_val: &quot;&quot;\\n      }\\n    }\\n  }\\n}\\nnode {\\n  name: &quot;save/RestoreV2_1&quot;\\n  op: &quot;RestoreV2&quot;\\n  input: &quot;save/Const&quot;\\n  input: &quot;save/RestoreV2_1/tensor_names&quot;\\n  input: &quot;save/RestoreV2_1/shape_and_slices&quot;\\n  attr {\\n    key: &quot;dtypes&quot;\\n    value {\\n      list {\\n        type: DT_FLOAT\\n      }\\n    }\\n  }\\n}\\nnode {\\n  name: &quot;save/Assign_1&quot;\\n  op: &quot;Assign&quot;\\n  input: &quot;dnn/hidden1/kernel&quot;\\n  input: &quot;save/RestoreV2_1&quot;\\n  attr {\\n    key: &quot;T&quot;\\n    value {\\n      type: DT_FLOAT\\n    }\\n  }\\n  attr {\\n    key: &quot;_class&quot;\\n    value {\\n      list {\\n        s: &quot;loc:@dnn/hidden1/kernel&quot;\\n      }\\n    }\\n  }\\n  attr {\\n    key: &quot;use_locking&quot;\\n    value {\\n      b: true\\n    }\\n  }\\n  attr {\\n    key: &quot;validate_shape&quot;\\n    value {\\n      b: true\\n    }\\n  }\\n}\\nnode {\\n  name: &quot;save/RestoreV2_2/tensor_names&quot;\\n  op: &quot;Const&quot;\\n  attr {\\n    key: &quot;dtype&quot;\\n    value {\\n      type: DT_STRING\\n    }\\n  }\\n  attr {\\n    key: &quot;value&quot;\\n    value {\\n      tensor {\\n        dtype: DT_STRING\\n        tensor_shape {\\n          dim {\\n            size: 1\\n          }\\n        }\\n        string_val: &quot;dnn/hidden2/bias&quot;\\n      }\\n    }\\n  }\\n}\\nnode {\\n  name: &quot;save/RestoreV2_2/shape_and_slices&quot;\\n  op: &quot;Const&quot;\\n  attr {\\n    key: &quot;dtype&quot;\\n    value {\\n      type: DT_STRING\\n    }\\n  }\\n  attr {\\n    key: &quot;value&quot;\\n    value {\\n      tensor {\\n        dtype: DT_STRING\\n        tensor_shape {\\n          dim {\\n            size: 1\\n          }\\n        }\\n        string_val: &quot;&quot;\\n      }\\n    }\\n  }\\n}\\nnode {\\n  name: &quot;save/RestoreV2_2&quot;\\n  op: &quot;RestoreV2&quot;\\n  input: &quot;save/Const&quot;\\n  input: &quot;save/RestoreV2_2/tensor_names&quot;\\n  input: &quot;save/RestoreV2_2/shape_and_slices&quot;\\n  attr {\\n    key: &quot;dtypes&quot;\\n    value {\\n      list {\\n        type: DT_FLOAT\\n      }\\n    }\\n  }\\n}\\nnode {\\n  name: &quot;save/Assign_2&quot;\\n  op: &quot;Assign&quot;\\n  input: &quot;dnn/hidden2/bias&quot;\\n  input: &quot;save/RestoreV2_2&quot;\\n  attr {\\n    key: &quot;T&quot;\\n    value {\\n      type: DT_FLOAT\\n    }\\n  }\\n  attr {\\n    key: &quot;_class&quot;\\n    value {\\n      list {\\n        s: &quot;loc:@dnn/hidden2/bias&quot;\\n      }\\n    }\\n  }\\n  attr {\\n    key: &quot;use_locking&quot;\\n    value {\\n      b: true\\n    }\\n  }\\n  attr {\\n    key: &quot;validate_shape&quot;\\n    value {\\n      b: true\\n    }\\n  }\\n}\\nnode {\\n  name: &quot;save/RestoreV2_3/tensor_names&quot;\\n  op: &quot;Const&quot;\\n  attr {\\n    key: &quot;dtype&quot;\\n    value {\\n      type: DT_STRING\\n    }\\n  }\\n  attr {\\n    key: &quot;value&quot;\\n    value {\\n      tensor {\\n        dtype: DT_STRING\\n        tensor_shape {\\n          dim {\\n            size: 1\\n          }\\n        }\\n        string_val: &quot;dnn/hidden2/kernel&quot;\\n      }\\n    }\\n  }\\n}\\nnode {\\n  name: &quot;save/RestoreV2_3/shape_and_slices&quot;\\n  op: &quot;Const&quot;\\n  attr {\\n    key: &quot;dtype&quot;\\n    value {\\n      type: DT_STRING\\n    }\\n  }\\n  attr {\\n    key: &quot;value&quot;\\n    value {\\n      tensor {\\n        dtype: DT_STRING\\n        tensor_shape {\\n          dim {\\n            size: 1\\n          }\\n        }\\n        string_val: &quot;&quot;\\n      }\\n    }\\n  }\\n}\\nnode {\\n  name: &quot;save/RestoreV2_3&quot;\\n  op: &quot;RestoreV2&quot;\\n  input: &quot;save/Const&quot;\\n  input: &quot;save/RestoreV2_3/tensor_names&quot;\\n  input: &quot;save/RestoreV2_3/shape_and_slices&quot;\\n  attr {\\n    key: &quot;dtypes&quot;\\n    value {\\n      list {\\n        type: DT_FLOAT\\n      }\\n    }\\n  }\\n}\\nnode {\\n  name: &quot;save/Assign_3&quot;\\n  op: &quot;Assign&quot;\\n  input: &quot;dnn/hidden2/kernel&quot;\\n  input: &quot;save/RestoreV2_3&quot;\\n  attr {\\n    key: &quot;T&quot;\\n    value {\\n      type: DT_FLOAT\\n    }\\n  }\\n  attr {\\n    key: &quot;_class&quot;\\n    value {\\n      list {\\n        s: &quot;loc:@dnn/hidden2/kernel&quot;\\n      }\\n    }\\n  }\\n  attr {\\n    key: &quot;use_locking&quot;\\n    value {\\n      b: true\\n    }\\n  }\\n  attr {\\n    key: &quot;validate_shape&quot;\\n    value {\\n      b: true\\n    }\\n  }\\n}\\nnode {\\n  name: &quot;save/RestoreV2_4/tensor_names&quot;\\n  op: &quot;Const&quot;\\n  attr {\\n    key: &quot;dtype&quot;\\n    value {\\n      type: DT_STRING\\n    }\\n  }\\n  attr {\\n    key: &quot;value&quot;\\n    value {\\n      tensor {\\n        dtype: DT_STRING\\n        tensor_shape {\\n          dim {\\n            size: 1\\n          }\\n        }\\n        string_val: &quot;dnn/outputs/bias&quot;\\n      }\\n    }\\n  }\\n}\\nnode {\\n  name: &quot;save/RestoreV2_4/shape_and_slices&quot;\\n  op: &quot;Const&quot;\\n  attr {\\n    key: &quot;dtype&quot;\\n    value {\\n      type: DT_STRING\\n    }\\n  }\\n  attr {\\n    key: &quot;value&quot;\\n    value {\\n      tensor {\\n        dtype: DT_STRING\\n        tensor_shape {\\n          dim {\\n            size: 1\\n          }\\n        }\\n        string_val: &quot;&quot;\\n      }\\n    }\\n  }\\n}\\nnode {\\n  name: &quot;save/RestoreV2_4&quot;\\n  op: &quot;RestoreV2&quot;\\n  input: &quot;save/Const&quot;\\n  input: &quot;save/RestoreV2_4/tensor_names&quot;\\n  input: &quot;save/RestoreV2_4/shape_and_slices&quot;\\n  attr {\\n    key: &quot;dtypes&quot;\\n    value {\\n      list {\\n        type: DT_FLOAT\\n      }\\n    }\\n  }\\n}\\nnode {\\n  name: &quot;save/Assign_4&quot;\\n  op: &quot;Assign&quot;\\n  input: &quot;dnn/outputs/bias&quot;\\n  input: &quot;save/RestoreV2_4&quot;\\n  attr {\\n    key: &quot;T&quot;\\n    value {\\n      type: DT_FLOAT\\n    }\\n  }\\n  attr {\\n    key: &quot;_class&quot;\\n    value {\\n      list {\\n        s: &quot;loc:@dnn/outputs/bias&quot;\\n      }\\n    }\\n  }\\n  attr {\\n    key: &quot;use_locking&quot;\\n    value {\\n      b: true\\n    }\\n  }\\n  attr {\\n    key: &quot;validate_shape&quot;\\n    value {\\n      b: true\\n    }\\n  }\\n}\\nnode {\\n  name: &quot;save/RestoreV2_5/tensor_names&quot;\\n  op: &quot;Const&quot;\\n  attr {\\n    key: &quot;dtype&quot;\\n    value {\\n      type: DT_STRING\\n    }\\n  }\\n  attr {\\n    key: &quot;value&quot;\\n    value {\\n      tensor {\\n        dtype: DT_STRING\\n        tensor_shape {\\n          dim {\\n            size: 1\\n          }\\n        }\\n        string_val: &quot;dnn/outputs/kernel&quot;\\n      }\\n    }\\n  }\\n}\\nnode {\\n  name: &quot;save/RestoreV2_5/shape_and_slices&quot;\\n  op: &quot;Const&quot;\\n  attr {\\n    key: &quot;dtype&quot;\\n    value {\\n      type: DT_STRING\\n    }\\n  }\\n  attr {\\n    key: &quot;value&quot;\\n    value {\\n      tensor {\\n        dtype: DT_STRING\\n        tensor_shape {\\n          dim {\\n            size: 1\\n          }\\n        }\\n        string_val: &quot;&quot;\\n      }\\n    }\\n  }\\n}\\nnode {\\n  name: &quot;save/RestoreV2_5&quot;\\n  op: &quot;RestoreV2&quot;\\n  input: &quot;save/Const&quot;\\n  input: &quot;save/RestoreV2_5/tensor_names&quot;\\n  input: &quot;save/RestoreV2_5/shape_and_slices&quot;\\n  attr {\\n    key: &quot;dtypes&quot;\\n    value {\\n      list {\\n        type: DT_FLOAT\\n      }\\n    }\\n  }\\n}\\nnode {\\n  name: &quot;save/Assign_5&quot;\\n  op: &quot;Assign&quot;\\n  input: &quot;dnn/outputs/kernel&quot;\\n  input: &quot;save/RestoreV2_5&quot;\\n  attr {\\n    key: &quot;T&quot;\\n    value {\\n      type: DT_FLOAT\\n    }\\n  }\\n  attr {\\n    key: &quot;_class&quot;\\n    value {\\n      list {\\n        s: &quot;loc:@dnn/outputs/kernel&quot;\\n      }\\n    }\\n  }\\n  attr {\\n    key: &quot;use_locking&quot;\\n    value {\\n      b: true\\n    }\\n  }\\n  attr {\\n    key: &quot;validate_shape&quot;\\n    value {\\n      b: true\\n    }\\n  }\\n}\\nnode {\\n  name: &quot;save/restore_all&quot;\\n  op: &quot;NoOp&quot;\\n  input: &quot;^save/Assign&quot;\\n  input: &quot;^save/Assign_1&quot;\\n  input: &quot;^save/Assign_2&quot;\\n  input: &quot;^save/Assign_3&quot;\\n  input: &quot;^save/Assign_4&quot;\\n  input: &quot;^save/Assign_5&quot;\\n}\\n';\n",
       "          }\n",
       "        </script>\n",
       "        <link rel=&quot;import&quot; href=&quot;https://tensorboard.appspot.com/tf-graph-basic.build.html&quot; onload=load()>\n",
       "        <div style=&quot;height:600px&quot;>\n",
       "          <tf-graph-basic id=&quot;graph0.2851015593374667&quot;></tf-graph-basic>\n",
       "        </div>\n",
       "    \"></iframe>\n",
       "    "
      ],
      "text/plain": [
       "<IPython.core.display.HTML object>"
      ]
     },
     "metadata": {},
     "output_type": "display_data"
    }
   ],
   "source": [
    "show_graph(tf.get_default_graph())"
   ]
  },
  {
   "cell_type": "code",
   "execution_count": 99,
   "metadata": {
    "collapsed": true
   },
   "outputs": [],
   "source": [
    "n_inputs = 28*28  # MNIST\n",
    "n_hidden1 = 300\n",
    "n_hidden2 = 100\n",
    "n_outputs = 10"
   ]
  },
  {
   "cell_type": "code",
   "execution_count": 103,
   "metadata": {
    "collapsed": true
   },
   "outputs": [],
   "source": [
    "reset_graph()\n",
    "\n",
    "X = tf.placeholder(tf.float32, shape=(None, n_inputs), name=\"X\")\n",
    "y = tf.placeholder(tf.int64, shape=(None), name=\"y\")"
   ]
  },
  {
   "cell_type": "code",
   "execution_count": 105,
   "metadata": {
    "collapsed": true
   },
   "outputs": [],
   "source": [
    "\n",
    "with tf.name_scope(\"dnn\"):\n",
    "    hidden1 = tf.layers.dense(X, n_hidden1, name=\"hidden1\",\n",
    "                              activation=tf.nn.relu)\n",
    "    hidden2 = tf.layers.dense(hidden1, n_hidden2, name=\"hidden2\",\n",
    "                              activation=tf.nn.relu)\n",
    "    logits = tf.layers.dense(hidden2, n_outputs, name=\"outputs\")"
   ]
  },
  {
   "cell_type": "code",
   "execution_count": 106,
   "metadata": {},
   "outputs": [],
   "source": [
    "with tf.name_scope(\"loss\"):\n",
    "    xentropy = tf.nn.sparse_softmax_cross_entropy_with_logits(labels=y, logits=logits)\n",
    "    loss = tf.reduce_mean(xentropy, name=\"loss\")\n",
    "    loss_summary = tf.summary.scalar('log_loss', loss)"
   ]
  },
  {
   "cell_type": "code",
   "execution_count": 107,
   "metadata": {
    "collapsed": true
   },
   "outputs": [],
   "source": [
    "learning_rate = 0.01\n",
    "\n",
    "with tf.name_scope(\"train\"):\n",
    "    optimizer = tf.train.GradientDescentOptimizer(learning_rate)\n",
    "    training_op = optimizer.minimize(loss)"
   ]
  },
  {
   "cell_type": "code",
   "execution_count": 108,
   "metadata": {
    "collapsed": true
   },
   "outputs": [],
   "source": [
    "with tf.name_scope(\"eval\"):\n",
    "    correct = tf.nn.in_top_k(logits, y, 1)\n",
    "    accuracy = tf.reduce_mean(tf.cast(correct, tf.float32))\n",
    "    accuracy_summary = tf.summary.scalar('accuracy', accuracy)"
   ]
  },
  {
   "cell_type": "code",
   "execution_count": 112,
   "metadata": {
    "collapsed": true
   },
   "outputs": [],
   "source": [
    "init = tf.global_variables_initializer()\n",
    "saver = tf.train.Saver()"
   ]
  },
  {
   "cell_type": "code",
   "execution_count": 111,
   "metadata": {},
   "outputs": [],
   "source": [
    "from datetime import datetime\n",
    "\n",
    "def log_dir(prefix=\"\"):\n",
    "    now = datetime.utcnow().strftime(\"%Y%m%d%H%M%S\")\n",
    "    root_logdir = \"tf_logs\"\n",
    "    if prefix:\n",
    "        prefix += \"-\"\n",
    "    name = prefix + \"run-\" + now\n",
    "    return \"{}/{}/\".format(root_logdir, name)"
   ]
  },
  {
   "cell_type": "code",
   "execution_count": 113,
   "metadata": {
    "collapsed": true
   },
   "outputs": [],
   "source": [
    "logdir = log_dir(\"mnist_dnn\")"
   ]
  },
  {
   "cell_type": "code",
   "execution_count": 114,
   "metadata": {
    "collapsed": true
   },
   "outputs": [],
   "source": [
    "file_writer = tf.summary.FileWriter(logdir, tf.get_default_graph())\n"
   ]
  },
  {
   "cell_type": "code",
   "execution_count": 115,
   "metadata": {
    "collapsed": true
   },
   "outputs": [],
   "source": [
    "X_valid = mnist.validation.images\n",
    "y_valid = mnist.validation.labels"
   ]
  },
  {
   "cell_type": "code",
   "execution_count": 116,
   "metadata": {
    "collapsed": true
   },
   "outputs": [],
   "source": [
    "m, n = X_train.shape"
   ]
  },
  {
   "cell_type": "code",
   "execution_count": 117,
   "metadata": {},
   "outputs": [
    {
     "name": "stdout",
     "output_type": "stream",
     "text": [
      "Epoch: 0 \tValidation accuracy: 90.580% \tLoss: 0.35221\n",
      "Epoch: 5 \tValidation accuracy: 95.280% \tLoss: 0.17408\n",
      "Epoch: 10 \tValidation accuracy: 96.780% \tLoss: 0.12845\n",
      "Epoch: 15 \tValidation accuracy: 97.180% \tLoss: 0.10437\n",
      "Epoch: 20 \tValidation accuracy: 97.580% \tLoss: 0.09012\n",
      "Epoch: 25 \tValidation accuracy: 97.720% \tLoss: 0.08101\n",
      "Epoch: 30 \tValidation accuracy: 97.680% \tLoss: 0.07537\n",
      "Epoch: 35 \tValidation accuracy: 97.880% \tLoss: 0.07307\n",
      "Epoch: 40 \tValidation accuracy: 98.020% \tLoss: 0.06924\n",
      "Epoch: 45 \tValidation accuracy: 98.020% \tLoss: 0.06903\n",
      "Epoch: 50 \tValidation accuracy: 98.140% \tLoss: 0.06699\n",
      "Epoch: 55 \tValidation accuracy: 97.940% \tLoss: 0.06675\n",
      "Epoch: 60 \tValidation accuracy: 98.040% \tLoss: 0.06601\n",
      "Epoch: 65 \tValidation accuracy: 98.160% \tLoss: 0.06534\n",
      "Epoch: 70 \tValidation accuracy: 98.140% \tLoss: 0.06597\n",
      "Epoch: 75 \tValidation accuracy: 98.140% \tLoss: 0.06609\n",
      "Epoch: 80 \tValidation accuracy: 98.180% \tLoss: 0.06630\n",
      "Epoch: 85 \tValidation accuracy: 98.120% \tLoss: 0.06691\n",
      "Epoch: 90 \tValidation accuracy: 98.160% \tLoss: 0.06725\n",
      "Epoch: 95 \tValidation accuracy: 98.160% \tLoss: 0.06843\n",
      "Epoch: 100 \tValidation accuracy: 98.180% \tLoss: 0.06862\n",
      "Epoch: 105 \tValidation accuracy: 98.220% \tLoss: 0.06917\n",
      "Epoch: 110 \tValidation accuracy: 98.140% \tLoss: 0.06905\n",
      "Epoch: 115 \tValidation accuracy: 98.160% \tLoss: 0.06961\n",
      "Epoch: 120 \tValidation accuracy: 98.140% \tLoss: 0.07138\n",
      "Early stopping\n"
     ]
    }
   ],
   "source": [
    "n_epochs = 10001\n",
    "batch_size = 50\n",
    "n_batches = int(np.ceil(m / batch_size))\n",
    "\n",
    "checkpoint_path = \"/tmp/my_deep_mnist_model.ckpt\"\n",
    "checkpoint_epoch_path = checkpoint_path + \".epoch\"\n",
    "final_model_path = \"./my_deep_mnist_model\"\n",
    "\n",
    "best_loss = np.infty\n",
    "epochs_without_progress = 0\n",
    "max_epochs_without_progress = 50\n",
    "\n",
    "with tf.Session() as sess:\n",
    "    if os.path.isfile(checkpoint_epoch_path):\n",
    "        # if the checkpoint file exists, restore the model and load the epoch number\n",
    "        with open(checkpoint_epoch_path, \"rb\") as f:\n",
    "            start_epoch = int(f.read())\n",
    "        print(\"Training was interrupted. Continuing at epoch\", start_epoch)\n",
    "        saver.restore(sess, checkpoint_path)\n",
    "    else:\n",
    "        start_epoch = 0\n",
    "        sess.run(init)\n",
    "\n",
    "    for epoch in range(start_epoch, n_epochs):\n",
    "        for iteration in range(mnist.train.num_examples // batch_size):\n",
    "            X_batch, y_batch = mnist.train.next_batch(batch_size)\n",
    "            sess.run(training_op, feed_dict={X: X_batch, y: y_batch})\n",
    "        accuracy_val, loss_val, accuracy_summary_str, loss_summary_str = sess.run([accuracy, loss, accuracy_summary, loss_summary], feed_dict={X: X_valid, y: y_valid})\n",
    "        file_writer.add_summary(accuracy_summary_str, epoch)\n",
    "        file_writer.add_summary(loss_summary_str, epoch)\n",
    "        if epoch % 5 == 0:\n",
    "            print(\"Epoch:\", epoch,\n",
    "                  \"\\tValidation accuracy: {:.3f}%\".format(accuracy_val * 100),\n",
    "                  \"\\tLoss: {:.5f}\".format(loss_val))\n",
    "            saver.save(sess, checkpoint_path)\n",
    "            with open(checkpoint_epoch_path, \"wb\") as f:\n",
    "                f.write(b\"%d\" % (epoch + 1))\n",
    "            if loss_val < best_loss:\n",
    "                saver.save(sess, final_model_path)\n",
    "                best_loss = loss_val\n",
    "            else:\n",
    "                epochs_without_progress += 5\n",
    "                if epochs_without_progress > max_epochs_without_progress:\n",
    "                    print(\"Early stopping\")\n",
    "                    break"
   ]
  },
  {
   "cell_type": "code",
   "execution_count": 118,
   "metadata": {
    "collapsed": true
   },
   "outputs": [],
   "source": [
    "os.remove(checkpoint_epoch_path)"
   ]
  },
  {
   "cell_type": "code",
   "execution_count": 119,
   "metadata": {},
   "outputs": [
    {
     "name": "stdout",
     "output_type": "stream",
     "text": [
      "INFO:tensorflow:Restoring parameters from ./my_deep_mnist_model\n"
     ]
    }
   ],
   "source": [
    "with tf.Session() as sess:\n",
    "    saver.restore(sess, final_model_path)\n",
    "    accuracy_val = accuracy.eval(feed_dict={X: X_test, y: y_test})"
   ]
  },
  {
   "cell_type": "code",
   "execution_count": 120,
   "metadata": {},
   "outputs": [
    {
     "data": {
      "text/plain": [
       "0.97930002"
      ]
     },
     "execution_count": 120,
     "metadata": {},
     "output_type": "execute_result"
    }
   ],
   "source": [
    "accuracy_val"
   ]
  }
 ],
 "metadata": {
  "kernelspec": {
   "display_name": "Python 3",
   "language": "python",
   "name": "python3"
  },
  "language_info": {
   "codemirror_mode": {
    "name": "ipython",
    "version": 3
   },
   "file_extension": ".py",
   "mimetype": "text/x-python",
   "name": "python",
   "nbconvert_exporter": "python",
   "pygments_lexer": "ipython3",
   "version": "3.6.2"
  }
 },
 "nbformat": 4,
 "nbformat_minor": 2
}
